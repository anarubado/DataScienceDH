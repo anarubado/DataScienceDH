{
 "cells": [
  {
   "cell_type": "code",
   "execution_count": 112,
   "metadata": {},
   "outputs": [
    {
     "name": "stdout",
     "output_type": "stream",
     "text": [
      "C:\\Users\\anabella\\Documents\\DH\\Actividades\\clase_06\\dsad_2021\\common\n",
      "default checking\n",
      "Running command `conda list`... ok\n",
      "jupyterlab=2.2.6 already installed\n",
      "pandas=1.1.5 already installed\n",
      "bokeh=2.2.3 already installed\n",
      "seaborn=0.11.0 already installed\n",
      "matplotlib=3.3.2 already installed\n",
      "ipywidgets=7.5.1 already installed\n",
      "pytest=6.2.1 already installed\n",
      "chardet=4.0.0 already installed\n",
      "psutil=5.7.2 already installed\n",
      "scipy=1.5.2 already installed\n",
      "statsmodels=0.12.1 already installed\n",
      "scikit-learn=0.23.2 already installed\n",
      "xlrd=2.0.1 already installed\n",
      "Running command `conda install --yes nltk=3.5.0`... ok\n",
      "Collecting package metadata (current_repodata.json): ...working... done\n",
      "Solving environment: ...working... done\n",
      "\n",
      "# All requested packages already installed.\n",
      "\n",
      "\n",
      "unidecode=1.1.1 already installed\n",
      "pydotplus=2.0.2 already installed\n",
      "pandas-datareader=0.9.0 already installed\n",
      "flask=1.1.2 already installed\n"
     ]
    }
   ],
   "source": [
    "%run \"../../../common/0_notebooks_base_setup.py\"   "
   ]
  },
  {
   "cell_type": "markdown",
   "metadata": {},
   "source": [
    "---\n",
    "\n",
    "<img src='../../../common/logo_DH.png' align='left' width=35%/>\n"
   ]
  },
  {
   "cell_type": "markdown",
   "metadata": {},
   "source": [
    "En la práctica de la clase de hoy usaremos un dataset de Kaggle que tiene datos de ventas:\n",
    "\n",
    "https://www.kaggle.com/kyanyoga/sample-sales-data\n",
    "\n",
    "Ustedes tienen un subconjunto de los datos disponibles, que usaremos para resolver ejercicios de Numpy, Estadística y Probabilidad."
   ]
  },
  {
   "cell_type": "markdown",
   "metadata": {},
   "source": [
    "## Ejercicio 1\n",
    "Leer los datos del archivo /M1/CLASE_03/Data/sales_data_sample_excercise.csv\n",
    "\n",
    "Este archivo tiene algunos datos numéricos y otros de tipo cadena de caracteres. \n",
    "\n",
    "Las columnas son:\n",
    "\n",
    "* ORDERNUMBER: int, id de la orden\n",
    "\n",
    "* SALES: float, monto abonado\n",
    "\n",
    "* MONTH_ID: int, mes\n",
    "\n",
    "* YEAR_ID: int, año\n",
    "\n",
    "* PRODUCTLINE: str, producto\n",
    "\n",
    "* COUNTRY: str, país de venta\n",
    "\n",
    "¿Recuerdan que todos los elementos de una instancia de ndarray deben ser del mismo tipo? Entonces vamos a leer el archivo y crear una instancia de ndarray de tipo cadena de caracteres.\n",
    "\n",
    "¿Qué pasaría si intentáramos crear una instancia de tipo int? ¿Y de tipo float?\n"
   ]
  },
  {
   "cell_type": "code",
   "execution_count": 113,
   "metadata": {},
   "outputs": [
    {
     "data": {
      "text/plain": [
       "array([['10107', '2871', '2', '2003', 'Motorcycles', 'USA'],\n",
       "       ['10121', '2765.9', '5', '2003', 'Motorcycles', 'France'],\n",
       "       ['10134', '3884.34', '7', '2003', 'Motorcycles', 'France'],\n",
       "       ...,\n",
       "       ['10386', '5417.57', '3', '2005', 'Ships', 'Spain'],\n",
       "       ['10397', '2116.16', '3', '2005', 'Ships', 'France'],\n",
       "       ['10414', '3079.44', '5', '2005', 'Ships', 'USA']], dtype='<U16')"
      ]
     },
     "execution_count": 113,
     "metadata": {},
     "output_type": "execute_result"
    }
   ],
   "source": [
    "import numpy as np\n",
    "data_location = '../Data/sales_data_sample_exercise.csv'\n",
    "data = np.genfromtxt(data_location, skip_header=1, delimiter=\"\\t\", dtype=str) # Si instanciamos con dtype int o float, perderíamos información\n",
    "data"
   ]
  },
  {
   "cell_type": "markdown",
   "metadata": {},
   "source": [
    "## Ejercicio 2\n",
    "\n",
    "Ahora queremos simular datos que representen las precios de ventas de USA en el mismo período, usando una distribución normal.\n",
    "\n",
    "¿Qué parámetros tiene esa distribución?\n",
    "\n",
    "Generar 100 datos simulados."
   ]
  },
  {
   "cell_type": "code",
   "execution_count": 114,
   "metadata": {},
   "outputs": [
    {
     "name": "stdout",
     "output_type": "stream",
     "text": [
      "USA data\n",
      "Sales number: 1004\n",
      "Max sale: $ 14082.8\n",
      "Min sale: $ 541.14\n",
      "------------------------\n",
      "Sales mean: $ 3613.53\n",
      "Median sale: $ 3236.06\n",
      "Range: $ 13541.66\n",
      "Sales std: $ 1880.0\n"
     ]
    }
   ],
   "source": [
    "countries_vector = data[:,5]\n",
    "sales_vector = data[:,1].astype(np.float)\n",
    "usa_sales = sales_vector[countries_vector == \"USA\"]\n",
    "mean_sales_usa = round(usa_sales.mean(), 2)\n",
    "std_sales_usa = round(usa_sales.std(), 2)\n",
    "median_sales_usa = np.median(usa_sales)\n",
    "max_sale_usa = usa_sales.max()\n",
    "min_sale_usa = usa_sales.min()\n",
    "range_sale_usa = max_sale_usa - min_sale_usa\n",
    "print(\"USA data\")\n",
    "print(\"Sales number:\", usa_sales.shape[0])\n",
    "print(\"Max sale: $\", max_sale_usa)\n",
    "print(\"Min sale: $\", min_sale_usa)\n",
    "print(\"------------------------\")\n",
    "print(\"Sales mean: $\", mean_sales_usa)\n",
    "print(\"Median sale: $\", median_sales_usa)\n",
    "print(\"Range: $\", range_sale_usa)\n",
    "print(\"Sales std: $\", std_sales_usa)"
   ]
  },
  {
   "cell_type": "code",
   "execution_count": 115,
   "metadata": {},
   "outputs": [
    {
     "data": {
      "text/plain": [
       "array([  598.31680585,  3734.03783833,  5006.40563625,  3900.4540839 ,\n",
       "        5237.36851569,  9090.15653831,   833.34208195,  5391.01919233,\n",
       "         481.19534024,  4259.76981313,  2650.13582654,  6102.19683857,\n",
       "        1996.20323606,  4590.17721415,  1235.05981101,  -445.65134124,\n",
       "        4430.82982598,  6872.1139215 ,  4591.38221372,  1729.45830774,\n",
       "        4118.01961594,  5055.8184369 ,  5853.12141036,  1437.59768228,\n",
       "        4922.53526308,  4274.13132929,  3552.58964394,  3638.31136874,\n",
       "        2336.54005697,  2446.92978825,  6116.21272715,  4100.146404  ,\n",
       "        2708.34023582, -1071.0344824 ,  1965.59010475,  2663.17284032,\n",
       "        1201.24716049,  1112.51256104,  5166.39605863,  3148.76577225,\n",
       "         418.08250168,  1103.44261172,  3050.2088876 ,  5709.3669692 ,\n",
       "         781.48136844,  6602.94070191,  2697.35866782,   396.65788827,\n",
       "        4578.13960335,  6315.26280619,  3196.53827469,  4833.30502305,\n",
       "        3015.89455414,  3592.89088026,  6744.51302724,  5297.6084964 ,\n",
       "        1352.63976593,  8876.82897564,  1693.68105576,  5207.97115398,\n",
       "        4549.92529753,  3454.77971913,  3994.21745261,  3305.57513756,\n",
       "        5187.20225409,  2274.14342995,  1406.12824626,  4507.03374611,\n",
       "        6879.8322367 ,  3356.63991429,  6815.76545681,  3447.67950979,\n",
       "        6541.14524778,  5424.74058341,  4596.25517472,  5375.37273179,\n",
       "        2040.1405082 ,  3797.89800727,   660.88963387,   267.35957213,\n",
       "        5340.9422521 ,  3333.28257657,  5504.12654572,  3859.84362853,\n",
       "        2160.20144052,  9054.82794847,  6202.43748316,  3935.86695065,\n",
       "        3655.34539307,  6720.57933458,  3008.40462306,  6479.71147087,\n",
       "        4844.18805404,  1128.49708728,  5010.831314  ,  5714.20582083,\n",
       "        4640.87375222,  5425.94974989,  6198.11389033,  2689.91821612])"
      ]
     },
     "execution_count": 115,
     "metadata": {},
     "output_type": "execute_result"
    }
   ],
   "source": [
    "random_generator = np.random.default_rng(1234) # Seteamos una semilla así los resultados serán reproducibles.\n",
    "normal_sales_usa = random_generator.normal(loc=mean_sales_usa, scale=std_sales_usa, size=100) # Usamos la media y el desvío estándar que sacamos de los datos existentes.\n",
    "normal_sales_usa # Se crean 100 datos generados aleatoriamente."
   ]
  },
  {
   "cell_type": "markdown",
   "metadata": {},
   "source": [
    "## Ejercicio 3\n",
    "\n",
    "Agregando a los datos originales los datos simulados en el punto anterior, calcular: \n",
    "* Media\n",
    "* Mediana\n",
    "* Rango\n",
    "* Desvío estandard\n",
    "\n",
    "Y comparar con el conjunto sin datos simulados\n",
    "\n",
    "Ayuda: https://docs.scipy.org/doc/numpy/reference/generated/numpy.concatenate.html"
   ]
  },
  {
   "cell_type": "code",
   "execution_count": 116,
   "metadata": {},
   "outputs": [],
   "source": [
    "usa_sales_ex = np.concatenate((usa_sales, normal_sales_usa))"
   ]
  },
  {
   "cell_type": "code",
   "execution_count": 117,
   "metadata": {},
   "outputs": [],
   "source": [
    "mean_sales_usa_ex = np.around(usa_sales_ex.mean(), 2)\n",
    "median_sales_usa_ex = np.around(np.median(usa_sales_ex), 2)\n",
    "range_sale_usa_ex = np.around(np.max(usa_sales_ex) - np.min(usa_sales_ex), 2)\n",
    "std_sales_usa_ex = np.around(np.std(usa_sales_ex), 2)"
   ]
  },
  {
   "cell_type": "code",
   "execution_count": 118,
   "metadata": {},
   "outputs": [
    {
     "name": "stdout",
     "output_type": "stream",
     "text": [
      "USA data extended (Normal)\n",
      "Sales number: 1104\n",
      "Sales mean: $ 3635.21\n",
      "Median sale: $ 3284.38\n",
      "Range: $ 15153.83\n",
      "Sales std: $ 1902.86\n"
     ]
    }
   ],
   "source": [
    "print(\"USA data extended (Normal)\")\n",
    "print(\"Sales number:\", usa_sales_ex.shape[0])\n",
    "print(\"Sales mean: $\", mean_sales_usa_ex)\n",
    "print(\"Median sale: $\", median_sales_usa_ex)\n",
    "print(\"Range: $\", range_sale_usa_ex)\n",
    "print(\"Sales std: $\", std_sales_usa_ex)\n",
    "\n",
    "# Todas las medidas de tendencia central y de variabilidad del set extendido de precios de ventas de USA tienen magnitudes ligeramente más altas\n",
    "# en comparación con el set original.\n",
    "\n",
    "# El set extendido tiene 100 datos más que el set original."
   ]
  },
  {
   "cell_type": "markdown",
   "metadata": {},
   "source": [
    "## Ejercicio 4\n",
    "\n",
    "Ahora queremos simular datos que representen las precios de ventas de USA en el mismo período, usando una distribución uniforme.\n",
    "\n",
    "¿Qué parámetros tiene esa distribución?\n",
    "\n",
    "Generar 100 datos simulados."
   ]
  },
  {
   "cell_type": "code",
   "execution_count": 119,
   "metadata": {},
   "outputs": [
    {
     "data": {
      "text/plain": [
       "array([ 7251.10288187, 10840.52576647,  9847.80260777,  3901.56765103,\n",
       "        8964.68348534,  4815.6420416 ,  4295.11046825, 13133.05853042,\n",
       "        4327.32407201, 13389.94117653,  3276.79028537,  8198.6564287 ,\n",
       "        5691.07568916, 11484.24654402,  2268.4284031 , 13423.85674875,\n",
       "       10410.67227088,  2918.31067515,  9922.24810719,  1798.25324429,\n",
       "        8075.74089232,  1929.08072451,  1132.81901815,  5858.82132662,\n",
       "        9899.15913951, 10385.62120273,  9600.93843665,  8551.77307445,\n",
       "       12444.26660908,  7821.9171326 ,  1865.8176495 ,  2454.5200011 ,\n",
       "       13572.00979369, 11348.79171562,   632.59728524, 13348.99835006,\n",
       "        9416.64980992, 12873.32080163,  2607.38958484,  8512.19873006,\n",
       "        7362.96246968,  2894.80213892,  1392.23737093,  9540.22758602,\n",
       "         973.19012943,  3766.16216393,  7520.91312235,  8698.06479127,\n",
       "        4372.88177178, 11958.51983886, 12656.93868917, 10334.34971702,\n",
       "       13088.04882273,  1340.06049471,  1220.21989797,  2218.68249536,\n",
       "        2194.31183184,  7733.79471755, 12906.54489692,  3012.04973515,\n",
       "       13967.67842658, 12456.51285171,  4914.4953927 ,  3131.87223873,\n",
       "        7269.53631915,  4798.70995576,   951.51538139,  1795.41627962,\n",
       "        8517.45329753,  9127.07219675, 13627.04844975,   742.63562644,\n",
       "       10469.34323356,  9111.15361444,  7334.78662835,  2178.82169152,\n",
       "       12159.07700944, 10052.94924806,  8241.11784683, 13826.85194744,\n",
       "        1764.6655593 , 10387.00705205,  7158.05145413,  4339.56401089,\n",
       "       12529.98146085, 11479.12034029,  6492.01119524,  9230.12069743,\n",
       "        9086.45640687,   655.38724941,  3542.76197782,  3478.22833048,\n",
       "        3523.94828261, 10577.3681617 , 13291.34426744,  4149.14331921,\n",
       "       10660.46106976,   569.18581699, 11501.16811222, 11466.67170314])"
      ]
     },
     "execution_count": 119,
     "metadata": {},
     "output_type": "execute_result"
    }
   ],
   "source": [
    "unif_sales_usa = random_generator.uniform(low=min_sale_usa, high=max_sale_usa, size=100) # Usamos los valores máximo y mínimo de la distribución original.\n",
    "unif_sales_usa"
   ]
  },
  {
   "cell_type": "markdown",
   "metadata": {},
   "source": [
    "## Ejercicio 5\n",
    "\n",
    "Agregando a los datos originales los datos simulados en el punto anterior, calcular: \n",
    "* Media\n",
    "* Mediana\n",
    "* Rango\n",
    "* Desvío estandard\n",
    "\n",
    "Y comparar con el conjunto sin datos simulados."
   ]
  },
  {
   "cell_type": "code",
   "execution_count": 120,
   "metadata": {},
   "outputs": [],
   "source": [
    "usa_sales_ex_2 = np.concatenate((usa_sales, unif_sales_usa))"
   ]
  },
  {
   "cell_type": "code",
   "execution_count": 121,
   "metadata": {},
   "outputs": [],
   "source": [
    "mean_sales_usa_ex_2 = np.around(usa_sales_ex_2.mean(), 2)\n",
    "median_sales_usa_ex_2 = np.around(np.median(usa_sales_ex_2), 2)\n",
    "range_sale_usa_ex_2 = np.around(np.max(usa_sales_ex_2) - np.min(usa_sales_ex_2), 2)\n",
    "std_sales_usa_ex_2 = np.around(np.std(usa_sales_ex_2), 2)"
   ]
  },
  {
   "cell_type": "code",
   "execution_count": 122,
   "metadata": {},
   "outputs": [
    {
     "name": "stdout",
     "output_type": "stream",
     "text": [
      "USA data extended (Uniform)\n",
      "Sales number: 1104\n",
      "Sales mean: $ 3945.85\n",
      "Median sale: $ 3327.0\n",
      "Range: $ 13541.66\n",
      "Sales std: $ 2432.95\n"
     ]
    }
   ],
   "source": [
    "print(\"USA data extended (Uniform)\")\n",
    "print(\"Sales number:\", usa_sales_ex_2.shape[0])\n",
    "print(\"Sales mean: $\", mean_sales_usa_ex_2)\n",
    "print(\"Median sale: $\", median_sales_usa_ex_2)\n",
    "print(\"Range: $\", range_sale_usa_ex_2)\n",
    "print(\"Sales std: $\", std_sales_usa_ex_2)"
   ]
  },
  {
   "cell_type": "markdown",
   "metadata": {},
   "source": [
    "## Ejercicio 6\n",
    "\n",
    "¿Cuál de las dos imputaciones de datos preservó mejor la distribución original?"
   ]
  },
  {
   "cell_type": "code",
   "execution_count": 123,
   "metadata": {},
   "outputs": [],
   "source": [
    "import seaborn as sns\n",
    "\n",
    "def distribution_plotter(data, label, color = 'steelblue',\n",
    "                         bin_width=200):    \n",
    "    sns.set(rc={\"figure.figsize\": (7, 5)})\n",
    "    sns.set_style(\"white\")    \n",
    "    dist = sns.histplot(data, stat = 'count', kde = False, \n",
    "                        line_kws = {'linewidth':5}, \n",
    "                        binwidth = bin_width,\n",
    "                       color = color)    \n",
    "    dist.set_title('Distribucion ' + label + '\\n', fontsize = 16)  \n"
   ]
  },
  {
   "cell_type": "code",
   "execution_count": 124,
   "metadata": {},
   "outputs": [
    {
     "data": {
      "image/png": "[encoded data removed]",
      "text/plain": [
       "<Figure size 504x360 with 1 Axes>"
      ]
     },
     "metadata": {},
     "output_type": "display_data"
    }
   ],
   "source": [
    "# Original Distribution\n",
    "distribution_plotter(usa_sales, \"Original USA sales\")"
   ]
  },
  {
   "cell_type": "code",
   "execution_count": 125,
   "metadata": {},
   "outputs": [
    {
     "data": {
      "image/png": "[encoded data removed]",
      "text/plain": [
       "<Figure size 504x360 with 1 Axes>"
      ]
     },
     "metadata": {},
     "output_type": "display_data"
    }
   ],
   "source": [
    "# Normal Distribution\n",
    "distribution_plotter(usa_sales_ex, \"Normal USA sales extended\", \"green\")"
   ]
  },
  {
   "cell_type": "code",
   "execution_count": 126,
   "metadata": {},
   "outputs": [
    {
     "data": {
      "image/png": "[encoded data removed]",
      "text/plain": [
       "<Figure size 504x360 with 1 Axes>"
      ]
     },
     "metadata": {},
     "output_type": "display_data"
    }
   ],
   "source": [
    "# Uniform Distribution\n",
    "distribution_plotter(usa_sales_ex_2, \"Uniform USA sales exteded\", \"orange\")"
   ]
  },
  {
   "cell_type": "code",
   "execution_count": 127,
   "metadata": {},
   "outputs": [
    {
     "name": "stdout",
     "output_type": "stream",
     "text": [
      "USA data (Original)\n",
      "Sales mean: $ 3613.53\n",
      "Median sale: $ 3236.06\n",
      "Range: $ 13541.66\n",
      "Sales std: $ 1880.0\n",
      "-------------------------------\n",
      "USA data extended (Normal)\n",
      "Sales mean: $ 3635.21\n",
      "Median sale: $ 3284.38\n",
      "Range: $ 15153.83\n",
      "Sales std: $ 1902.86\n",
      "-------------------------------\n",
      "USA data extended (Uniform)\n",
      "Sales mean: $ 3945.85\n",
      "Median sale: $ 3327.0\n",
      "Range: $ 13541.66\n",
      "Sales std: $ 2432.95\n"
     ]
    }
   ],
   "source": [
    "print(\"USA data (Original)\")\n",
    "print(\"Sales mean: $\", mean_sales_usa)\n",
    "print(\"Median sale: $\", median_sales_usa)\n",
    "print(\"Range: $\", range_sale_usa)\n",
    "print(\"Sales std: $\", std_sales_usa)\n",
    "print(\"-------------------------------\")\n",
    "print(\"USA data extended (Normal)\")\n",
    "print(\"Sales mean: $\", mean_sales_usa_ex)\n",
    "print(\"Median sale: $\", median_sales_usa_ex)\n",
    "print(\"Range: $\", range_sale_usa_ex)\n",
    "print(\"Sales std: $\", std_sales_usa_ex)\n",
    "print(\"-------------------------------\")\n",
    "print(\"USA data extended (Uniform)\")\n",
    "print(\"Sales mean: $\", mean_sales_usa_ex_2)\n",
    "print(\"Median sale: $\", median_sales_usa_ex_2)\n",
    "print(\"Range: $\", range_sale_usa_ex_2)\n",
    "print(\"Sales std: $\", std_sales_usa_ex_2)\n",
    "\n",
    "# Original vs Normal\n",
    "# Vemos más cambios en las variables de variabilidad de la Ditribución Normal (rango y desvío estándar). Podemos ver en el gráfico que hay más datos dispersos en los extremos\n",
    "# en comparación con el gráfico de la Distribución Original.\n",
    "\n",
    "# Original vs Uniform\n",
    "# El rango lo pudimos controlar con los parámetros que introducimos en la Distribución Uniforme. \n",
    "# Por esto mismo, diría que la Distribución Uniforme preservó mejor la Distribución Original."
   ]
  }
 ],
 "metadata": {
  "kernelspec": {
   "display_name": "Python 3",
   "language": "python",
   "name": "python3"
  },
  "language_info": {
   "codemirror_mode": {
    "name": "ipython",
    "version": 3
   },
   "file_extension": ".py",
   "mimetype": "text/x-python",
   "name": "python",
   "nbconvert_exporter": "python",
   "pygments_lexer": "ipython3",
   "version": "3.8.10"
  }
 },
 "nbformat": 4,
 "nbformat_minor": 4
}
