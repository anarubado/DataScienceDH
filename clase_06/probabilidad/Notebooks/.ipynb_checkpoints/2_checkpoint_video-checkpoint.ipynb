{
 "cells": [
  {
   "cell_type": "code",
   "execution_count": 3,
   "metadata": {},
   "outputs": [
    {
     "name": "stdout",
     "output_type": "stream",
     "text": [
      "C:\\Users\\anabella\\Documents\\DH\\Actividades\\clase_06\\dsad_2021\\common\n",
      "default checking\n",
      "Running command `conda list`... ok\n",
      "jupyterlab=2.2.6 already installed\n",
      "pandas=1.1.5 already installed\n",
      "bokeh=2.2.3 already installed\n",
      "seaborn=0.11.0 already installed\n",
      "matplotlib=3.3.2 already installed\n",
      "ipywidgets=7.5.1 already installed\n",
      "pytest=6.2.1 already installed\n",
      "chardet=4.0.0 already installed\n",
      "psutil=5.7.2 already installed\n",
      "scipy=1.5.2 already installed\n",
      "statsmodels=0.12.1 already installed\n",
      "scikit-learn=0.23.2 already installed\n",
      "xlrd=2.0.1 already installed\n",
      "Running command `conda install --yes nltk=3.5.0`... ok\n",
      "Collecting package metadata (current_repodata.json): ...working... done\n",
      "Solving environment: ...working... done\n",
      "\n",
      "# All requested packages already installed.\n",
      "\n",
      "\n",
      "unidecode=1.1.1 already installed\n",
      "pydotplus=2.0.2 already installed\n",
      "pandas-datareader=0.9.0 already installed\n",
      "flask=1.1.2 already installed\n"
     ]
    }
   ],
   "source": [
    "%run \"../../../common/0_notebooks_base_setup.py\"    "
   ]
  },
  {
   "cell_type": "markdown",
   "metadata": {},
   "source": [
    "---\n",
    "\n",
    "<img src='../../../common/logo_DH.png' align='left' width=35%/>\n"
   ]
  },
  {
   "cell_type": "markdown",
   "metadata": {},
   "source": [
    "# Checkpoint Probabilidad\n",
    "\n",
    "\n",
    "La idea de esta práctica es ejercitar los puntos que vamos a necesitar para resolver el desafío.\n",
    "\n"
   ]
  },
  {
   "cell_type": "code",
   "execution_count": 4,
   "metadata": {},
   "outputs": [],
   "source": [
    "import seaborn as sns\n",
    "\n",
    "def distribution_plotter(data, label, bin_width=10):    \n",
    "    sns.set(rc={\"figure.figsize\": (7, 5)})\n",
    "    sns.set_style(\"white\")    \n",
    "    dist = sns.histplot(data, stat = 'count', kde = False, \n",
    "                        line_kws = {'linewidth':5}, \n",
    "                        binwidth = bin_width)    \n",
    "    dist.set_title('Distribución ' + label + '\\n', fontsize = 16)"
   ]
  },
  {
   "cell_type": "markdown",
   "metadata": {},
   "source": [
    "# Ejercicio 1\n",
    "\n",
    "Queremos simular las fechas de cumpleaños de los alumnos de data science (en años no bisiestos). ¿Qué distibución usaríamos? ¿Con qué parámetros?\n",
    "\n",
    "Generar 30 datos que simulen los cumpleaños de cada una de las personas en el curso y graficarlos con la función distribution_plotter\n",
    "\n",
    "\n",
    "Observar:\n",
    "\n",
    "qué pasa a medida que aumentamos la cantidad de datos generados\n",
    "\n",
    "qué pasa si seteamos una semilla\n",
    "\n"
   ]
  },
  {
   "cell_type": "code",
   "execution_count": 13,
   "metadata": {},
   "outputs": [
    {
     "data": {
      "image/png": "[encoded data removed]",
      "text/plain": [
       "<Figure size 504x360 with 1 Axes>"
      ]
     },
     "metadata": {},
     "output_type": "display_data"
    }
   ],
   "source": [
    "import numpy as np\n",
    "\n",
    "random_generator = np.random.default_rng(1234) # Seteamos una semilla.\n",
    "birthday = random_generator.integers(low=1, high=366, size=30) # Generamos 30 datos con límites de 1 a 365 (el límite high no se incluye).\n",
    "distribution_plotter(birthday, \"Cumple\", bin_width = 20)\n",
    "\n",
    "# Podemos pensar en que la distribución de fechas de cumpleaños puede seguir una distribución uniforme.\n",
    "# Si aumentamos la cantidad de datos generados (por ej. a 300), la distribución va tendiendo más a ser uniforme.\n",
    "# Si seteamos la semilla, los datos aleatorios siempre van a ser los mismos. De lo contrario, los datos generados serán distintos cada vez que ejecutemos la función."
   ]
  },
  {
   "cell_type": "markdown",
   "metadata": {},
   "source": [
    "# Ejercicio 2\n",
    "\n",
    "Asumiento que la media de la altura de los alumnos de este curso es 1.65m y el desvío 0.12m, ¿qué distribución consideran que representaría adecuadamente la altura de todos los alumnos de DH?\n",
    "\n",
    "Generar y graficar 100 datos con esa distribución.\n"
   ]
  },
  {
   "cell_type": "code",
   "execution_count": 15,
   "metadata": {},
   "outputs": [
    {
     "data": {
      "image/png": "[encoded data removed]",
      "text/plain": [
       "<Figure size 504x360 with 1 Axes>"
      ]
     },
     "metadata": {},
     "output_type": "display_data"
    }
   ],
   "source": [
    "random_generator = np.random.default_rng(737)\n",
    "birthday = random_generator.normal(loc=165, scale=12, size=100) # loc hace referencia a la media y scale al desvío estándar.\n",
    "distribution_plotter(birthday, \"Altura\", bin_width = 5)\n",
    "\n",
    "# Para representar la altura de todos los alumnos de DH, podemos considerar la distribución normal."
   ]
  }
 ],
 "metadata": {
  "kernelspec": {
   "display_name": "Python 3",
   "language": "python",
   "name": "python3"
  },
  "language_info": {
   "codemirror_mode": {
    "name": "ipython",
    "version": 3
   },
   "file_extension": ".py",
   "mimetype": "text/x-python",
   "name": "python",
   "nbconvert_exporter": "python",
   "pygments_lexer": "ipython3",
   "version": "3.8.10"
  }
 },
 "nbformat": 4,
 "nbformat_minor": 4
}
