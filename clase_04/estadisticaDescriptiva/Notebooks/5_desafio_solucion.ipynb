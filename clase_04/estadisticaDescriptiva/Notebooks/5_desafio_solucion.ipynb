{
 "cells": [
  {
   "cell_type": "code",
   "execution_count": 7,
   "metadata": {},
   "outputs": [
    {
     "name": "stdout",
     "output_type": "stream",
     "text": [
      "/media/paulati/Nuevo vol/paula/dh/2021/dsad_2021_paula/common\n",
      "default checking\n",
      "Running command `conda list`... ok\n",
      "jupyterlab=2.2.6 already installed\n",
      "pandas=1.1.5 already installed\n",
      "bokeh=2.2.3 already installed\n",
      "seaborn=0.11.0 already installed\n",
      "matplotlib=3.3.2 already installed\n",
      "ipywidgets=7.5.1 already installed\n",
      "pytest=6.2.1 already installed\n",
      "chardet=4.0.0 already installed\n",
      "psutil=5.7.2 already installed\n",
      "scipy=1.5.2 already installed\n",
      "statsmodels=0.12.1 already installed\n",
      "scikit-learn=0.23.2 already installed\n",
      "xlrd=2.0.1 already installed\n",
      "Running command `conda install --yes nltk=3.5.0`... ok\n",
      "Collecting package metadata (current_repodata.json): ...working... done\n",
      "Solving environment: ...working... done\n",
      "\n",
      "# All requested packages already installed.\n",
      "\n",
      "\n",
      "unidecode=1.1.1 already installed\n",
      "pydotplus=2.0.2 already installed\n",
      "pandas-datareader=0.9.0 already installed\n",
      "flask=1.1.2 already installed\n"
     ]
    }
   ],
   "source": [
    "%run \"../../../common/0_notebooks_base_setup.py\"   "
   ]
  },
  {
   "cell_type": "markdown",
   "metadata": {},
   "source": [
    "---\n",
    "\n",
    "<img src='../../../common/logo_DH.png' align='left' width=35%/>\n"
   ]
  },
  {
   "cell_type": "markdown",
   "metadata": {},
   "source": [
    "En la práctica de la clase de hoy usaremos un dataset de Kaggle que tiene datos de ventas:\n",
    "\n",
    "https://www.kaggle.com/kyanyoga/sample-sales-data\n",
    "\n",
    "Ustedes tienen un subconjunto de los datos disponibles para resolver los ejercicios de esta práctica."
   ]
  },
  {
   "cell_type": "markdown",
   "metadata": {},
   "source": [
    "## Ejercicio 1\n",
    "Leer los datos del archivo /M1/CLASE_03/Data/sales_data_sample_excercise.csv\n",
    "\n",
    "Este archivo tiene algunos datos numéricos y otros de tipo cadena de caracteres. \n",
    "\n",
    "Las columnas son:\n",
    "\n",
    "* ORDERNUMBER: int, id de la orden\n",
    "\n",
    "* SALES: float, monto abonado\n",
    "\n",
    "* MONTH_ID: int, mes\n",
    "\n",
    "* YEAR_ID: int, año\n",
    "\n",
    "* PRODUCTLINE: str, producto\n",
    "\n",
    "* COUNTRY: str, país de venta\n",
    "\n",
    "¿Recuerdan que todos los elementos de una instancia de ndarray deben ser del mismo tipo? Entonces vamos a leer el archivo y crear una instancia de ndarray de tipo cadena de caracteres.\n",
    "\n",
    "¿Qué pasaría si intentáramos crear una instancia de tipo int? ¿Y de tipo float?\n"
   ]
  },
  {
   "cell_type": "code",
   "execution_count": 8,
   "metadata": {},
   "outputs": [
    {
     "data": {
      "text/plain": [
       "array([['10107', '2871', '2', '2003', 'Motorcycles', 'USA'],\n",
       "       ['10121', '2765.9', '5', '2003', 'Motorcycles', 'France'],\n",
       "       ['10134', '3884.34', '7', '2003', 'Motorcycles', 'France'],\n",
       "       ...,\n",
       "       ['10386', '5417.57', '3', '2005', 'Ships', 'Spain'],\n",
       "       ['10397', '2116.16', '3', '2005', 'Ships', 'France'],\n",
       "       ['10414', '3079.44', '5', '2005', 'Ships', 'USA']], dtype='<U16')"
      ]
     },
     "execution_count": 8,
     "metadata": {},
     "output_type": "execute_result"
    }
   ],
   "source": [
    "## [BORRAR_PRESENCIAL]\n",
    "\n",
    "import numpy as np\n",
    "\n",
    "# local:\n",
    "data_location = '../Data/sales_data_sample_excercise.csv'\n",
    "\n",
    "data = np.genfromtxt(data_location, skip_header=1, delimiter='\\t', dtype= str)\n",
    "data"
   ]
  },
  {
   "cell_type": "markdown",
   "metadata": {},
   "source": [
    "## Ejercicio 2\n",
    "\n",
    "La función `distribution_plotter` grafica los datos que recibe como parámetro en una instancia de numpy array\n",
    "\n",
    "Graficar los precios de ventas en tres países. ¿Qué pueden decir respecto a sus distribuciones?\n",
    "\n",
    "Comparar las distribuciones con la de los precios de ventas sin distinguir por paises"
   ]
  },
  {
   "cell_type": "code",
   "execution_count": 19,
   "metadata": {},
   "outputs": [],
   "source": [
    "import seaborn as sns\n",
    "\n",
    "def distribution_plotter(data, label, bin_width=500):    \n",
    "    sns.set(rc={\"figure.figsize\": (7, 5)})\n",
    "    sns.set_style(\"white\")    \n",
    "    dist = sns.histplot(data, stat = 'count', kde = False, \n",
    "                        line_kws = {'linewidth':5}, \n",
    "                        binwidth = bin_width)    \n",
    "    dist.set_title('Distribucion ' + label + '\\n', fontsize = 16)"
   ]
  },
  {
   "cell_type": "code",
   "execution_count": 20,
   "metadata": {},
   "outputs": [
    {
     "data": {
      "image/png": "[encoded data removed]",
      "text/plain": [
       "<Figure size 504x360 with 1 Axes>"
      ]
     },
     "metadata": {},
     "output_type": "display_data"
    }
   ],
   "source": [
    "## [BORRAR_PRESENCIAL]\n",
    "sales_vector = data[:, 1].astype(float)\n",
    "\n",
    "distribution_plotter(sales_vector, 'Todos los países')"
   ]
  },
  {
   "cell_type": "code",
   "execution_count": 12,
   "metadata": {},
   "outputs": [
    {
     "name": "stdout",
     "output_type": "stream",
     "text": [
      "['Australia' 'Austria' 'Belgium' 'Canada' 'Denmark' 'Finland' 'France'\n",
      " 'Germany' 'Ireland' 'Italy' 'Japan' 'Norway' 'Philippines' 'Singapore'\n",
      " 'Spain' 'Sweden' 'Switzerland' 'UK' 'USA']\n"
     ]
    }
   ],
   "source": [
    "## [BORRAR_PRESENCIAL]\n",
    "\n",
    "country_vector = data[:, 5]\n",
    "\n",
    "paises_unicos = np.unique(country_vector)\n",
    "print(paises_unicos)"
   ]
  },
  {
   "cell_type": "code",
   "execution_count": 21,
   "metadata": {},
   "outputs": [
    {
     "data": {
      "image/png": "[encoded data removed]",
      "text/plain": [
       "<Figure size 504x360 with 1 Axes>"
      ]
     },
     "metadata": {},
     "output_type": "display_data"
    }
   ],
   "source": [
    "## [BORRAR_PRESENCIAL]\n",
    "\n",
    "ventas_Australia_mask = country_vector == 'Australia'\n",
    "precios_Australia = sales_vector[ventas_Australia_mask]\n",
    "distribution_plotter(precios_Australia, 'Australia')"
   ]
  },
  {
   "cell_type": "code",
   "execution_count": 22,
   "metadata": {},
   "outputs": [
    {
     "data": {
      "image/png": "[encoded data removed]",
      "text/plain": [
       "<Figure size 504x360 with 1 Axes>"
      ]
     },
     "metadata": {},
     "output_type": "display_data"
    }
   ],
   "source": [
    "## [BORRAR_PRESENCIAL]\n",
    "\n",
    "ventas_USA_mask = country_vector == 'USA'\n",
    "precios_USA = sales_vector[ventas_USA_mask]\n",
    "distribution_plotter(precios_USA, 'USA')\n"
   ]
  },
  {
   "cell_type": "code",
   "execution_count": 23,
   "metadata": {},
   "outputs": [
    {
     "data": {
      "image/png": "[encoded data removed]",
      "text/plain": [
       "<Figure size 504x360 with 1 Axes>"
      ]
     },
     "metadata": {},
     "output_type": "display_data"
    }
   ],
   "source": [
    "## [BORRAR_PRESENCIAL]\n",
    "\n",
    "ventas_Sweden_mask = country_vector == 'Sweden'\n",
    "precios_Sweden = sales_vector[ventas_Sweden_mask]\n",
    "distribution_plotter(precios_Sweden, 'Sweden')"
   ]
  },
  {
   "cell_type": "markdown",
   "metadata": {},
   "source": [
    "## Ejercicio 3\n",
    "Para los tres países del punto anterior, calcular con dos decimales\n",
    "* Media\n",
    "* Mediana\n",
    "* Rango\n",
    "* Desvío estandard\n",
    "\n",
    "Repetir para todos los datos de ventas sin distinguir por país.\n",
    "\n",
    "¿Qué conclusiones pueden sacar respecto a la información que brinda cada una de estas medidas en este caso particular?"
   ]
  },
  {
   "cell_type": "code",
   "execution_count": 16,
   "metadata": {},
   "outputs": [
    {
     "name": "stdout",
     "output_type": "stream",
     "text": [
      "Media de precios Sweden: 3684.46\n",
      "Mediana de precios Sweden: 3256.96\n",
      "Rango de precios Sweden: 5741.63\n",
      "Desvío de precios Sweden: 1666.02\n",
      "------\n",
      "Media de precios USA: 3613.53\n",
      "Mediana de precios USA: 3236.06\n",
      "Rango de precios USA: 13541.66\n",
      "Desvío de precios USA: 1880.0\n",
      "------\n",
      "Media de precios Australia: 3408.77\n",
      "Mediana de precios Australia: 3070.4\n",
      "Rango de precios Australia: 9121.68\n",
      "Desvío de precios Australia: 1749.41\n",
      "------\n",
      "Media de precios (Todos los países): 3553.89\n",
      "Mediana de precios (Todos los países): 3184.8\n",
      "Rango de precios (Todos los países): 13600.67\n",
      "Desvío de precios (Todos los países): 1841.54\n",
      "------\n"
     ]
    }
   ],
   "source": [
    "## [BORRAR_PRESENCIAL]\n",
    "\n",
    "print(\"Media de precios Sweden:\", np.around(np.mean(precios_Sweden), 2))\n",
    "print(\"Mediana de precios Sweden:\", np.around(np.median(precios_Sweden), 2))\n",
    "print(\"Rango de precios Sweden:\", np.around(np.max(precios_Sweden) - np.min(precios_Sweden), 2))\n",
    "print(\"Desvío de precios Sweden:\", np.around(np.std(precios_Sweden), 2))\n",
    "print(\"------\")\n",
    "\n",
    "print(\"Media de precios USA:\", np.around(np.mean(precios_USA), 2))\n",
    "print(\"Mediana de precios USA:\", np.around(np.median(precios_USA), 2))\n",
    "print(\"Rango de precios USA:\", np.around(np.max(precios_USA) - np.min(precios_USA), 2))\n",
    "print(\"Desvío de precios USA:\", np.around(np.std(precios_USA), 2))\n",
    "print(\"------\")\n",
    "\n",
    "print(\"Media de precios Australia:\", np.around(np.mean(precios_Australia), 2))\n",
    "print(\"Mediana de precios Australia:\", np.around(np.median(precios_Australia), 2))\n",
    "print(\"Rango de precios Australia:\", np.around(np.max(precios_Australia) - np.min(precios_Australia), 2))\n",
    "print(\"Desvío de precios Australia:\", np.around(np.std(precios_Australia), 2))\n",
    "print(\"------\")\n",
    "\n",
    "print(\"Media de precios (Todos los países):\", np.around(np.mean(sales_vector), 2))\n",
    "print(\"Mediana de precios (Todos los países):\", np.around(np.median(sales_vector), 2))\n",
    "print(\"Rango de precios (Todos los países):\", np.around(np.max(sales_vector) - np.min(sales_vector), 2))\n",
    "print(\"Desvío de precios (Todos los países):\", np.around(np.std(sales_vector), 2))\n",
    "print(\"------\")\n",
    "\n"
   ]
  }
 ],
 "metadata": {
  "kernelspec": {
   "display_name": "Python 3",
   "language": "python",
   "name": "python3"
  },
  "language_info": {
   "codemirror_mode": {
    "name": "ipython",
    "version": 3
   },
   "file_extension": ".py",
   "mimetype": "text/x-python",
   "name": "python",
   "nbconvert_exporter": "python",
   "pygments_lexer": "ipython3",
   "version": "3.8.10"
  }
 },
 "nbformat": 4,
 "nbformat_minor": 4
}
