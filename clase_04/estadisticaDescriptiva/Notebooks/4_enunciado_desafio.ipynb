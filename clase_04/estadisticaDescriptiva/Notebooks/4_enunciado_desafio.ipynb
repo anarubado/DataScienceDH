{
 "cells": [
  {
   "cell_type": "code",
   "execution_count": 1,
   "metadata": {},
   "outputs": [
    {
     "name": "stdout",
     "output_type": "stream",
     "text": [
      "C:\\Users\\anabella\\Documents\\DH\\Actividades\\clase_04\\dsad_2021\\common\n",
      "default checking\n",
      "Running command `conda list`... ok\n",
      "jupyterlab=2.2.6 already installed\n",
      "pandas=1.1.5 already installed\n",
      "bokeh=2.2.3 already installed\n",
      "seaborn=0.11.0 already installed\n",
      "matplotlib=3.3.2 already installed\n",
      "ipywidgets=7.5.1 already installed\n",
      "pytest=6.2.1 already installed\n",
      "chardet=4.0.0 already installed\n",
      "psutil=5.7.2 already installed\n",
      "scipy=1.5.2 already installed\n",
      "statsmodels=0.12.1 already installed\n",
      "scikit-learn=0.23.2 already installed\n",
      "xlrd=2.0.1 already installed\n",
      "Running command `conda install --yes nltk=3.5.0`... ok\n",
      "Collecting package metadata (current_repodata.json): ...working... done\n",
      "Solving environment: ...working... done\n",
      "\n",
      "# All requested packages already installed.\n",
      "\n",
      "\n",
      "unidecode=1.1.1 already installed\n",
      "pydotplus=2.0.2 already installed\n",
      "pandas-datareader=0.9.0 already installed\n",
      "flask=1.1.2 already installed\n"
     ]
    }
   ],
   "source": [
    "%run \"../../../common/0_notebooks_base_setup.py\"   "
   ]
  },
  {
   "cell_type": "markdown",
   "metadata": {},
   "source": [
    "---\n",
    "\n",
    "<img src='../../../common/logo_DH.png' align='left' width=35%/>\n"
   ]
  },
  {
   "cell_type": "markdown",
   "metadata": {},
   "source": [
    "En la práctica de la clase de hoy usaremos un dataset de Kaggle que tiene datos de ventas:\n",
    "\n",
    "https://www.kaggle.com/kyanyoga/sample-sales-data\n",
    "\n",
    "Ustedes tienen un subconjunto de los datos disponibles para resolver los ejercicios de esta práctica."
   ]
  },
  {
   "cell_type": "markdown",
   "metadata": {},
   "source": [
    "## Ejercicio 1\n",
    "Leer los datos del archivo /M1/CLASE_03/Data/sales_data_sample_excercise.csv\n",
    "\n",
    "Este archivo tiene algunos datos numéricos y otros de tipo cadena de caracteres. \n",
    "\n",
    "Las columnas son:\n",
    "\n",
    "* ORDERNUMBER: int, id de la orden\n",
    "\n",
    "* SALES: float, monto abonado\n",
    "\n",
    "* MONTH_ID: int, mes\n",
    "\n",
    "* YEAR_ID: int, año\n",
    "\n",
    "* PRODUCTLINE: str, producto\n",
    "\n",
    "* COUNTRY: str, país de venta\n",
    "\n",
    "¿Recuerdan que todos los elementos de una instancia de ndarray deben ser del mismo tipo? Entonces vamos a leer el archivo y crear una instancia de ndarray de tipo cadena de caracteres.\n",
    "\n",
    "¿Qué pasaría si intentáramos crear una instancia de tipo int? ¿Y de tipo float?\n"
   ]
  },
  {
   "cell_type": "code",
   "execution_count": 3,
   "metadata": {},
   "outputs": [],
   "source": [
    "import numpy as np"
   ]
  },
  {
   "cell_type": "code",
   "execution_count": 6,
   "metadata": {},
   "outputs": [
    {
     "data": {
      "text/plain": [
       "array([['10107', '2871', '2', '2003', 'Motorcycles', 'USA'],\n",
       "       ['10121', '2765.9', '5', '2003', 'Motorcycles', 'France'],\n",
       "       ['10134', '3884.34', '7', '2003', 'Motorcycles', 'France'],\n",
       "       ...,\n",
       "       ['10386', '5417.57', '3', '2005', 'Ships', 'Spain'],\n",
       "       ['10397', '2116.16', '3', '2005', 'Ships', 'France'],\n",
       "       ['10414', '3079.44', '5', '2005', 'Ships', 'USA']], dtype='<U16')"
      ]
     },
     "execution_count": 6,
     "metadata": {},
     "output_type": "execute_result"
    }
   ],
   "source": [
    "data_location = \"../Data/sales_data_sample_exercise.csv\"\n",
    "data = np.genfromtxt(data_location, skip_header=1, delimiter=\"\\t\", dtype=str)\n",
    "data"
   ]
  },
  {
   "cell_type": "markdown",
   "metadata": {},
   "source": [
    "## Ejercicio 2\n",
    "\n",
    "La función `distribution_plotter` grafica los datos que recibe como parámetro en una instancia de numpy array\n",
    "\n",
    "Graficar los precios de ventas en tres países. ¿Qué pueden decir respecto a sus distribuciones?\n",
    "\n",
    "Comparar las distribuciones con la de los precios de ventas sin distinguir por paises"
   ]
  },
  {
   "cell_type": "code",
   "execution_count": 2,
   "metadata": {},
   "outputs": [],
   "source": [
    "import seaborn as sns\n",
    "\n",
    "def distribution_plotter(data, label, bin_width=500):    \n",
    "    sns.set(rc={\"figure.figsize\": (7, 5)})\n",
    "    sns.set_style(\"white\")    \n",
    "    dist = sns.histplot(data, stat = 'count', kde = False, \n",
    "                        line_kws = {'linewidth':5}, \n",
    "                        binwidth = bin_width)    \n",
    "    dist.set_title('Distribucion ' + label + '\\n', fontsize = 16)"
   ]
  },
  {
   "cell_type": "code",
   "execution_count": 34,
   "metadata": {},
   "outputs": [],
   "source": [
    "countries_registers = data[:, 5]\n",
    "sales_registers = data[:, 1].astype(float) # Debemos recordar adecuar el tipo de dato."
   ]
  },
  {
   "cell_type": "code",
   "execution_count": 35,
   "metadata": {},
   "outputs": [
    {
     "data": {
      "image/png": "[encoded data removed]",
      "text/plain": [
       "<Figure size 504x360 with 1 Axes>"
      ]
     },
     "metadata": {},
     "output_type": "display_data"
    }
   ],
   "source": [
    "usa_sales = sales_registers[countries_registers == \"USA\"]\n",
    "distribution_plotter(usa_sales, \"USA sales\")"
   ]
  },
  {
   "cell_type": "code",
   "execution_count": 36,
   "metadata": {},
   "outputs": [
    {
     "data": {
      "image/png": "[encoded data removed]",
      "text/plain": [
       "<Figure size 504x360 with 1 Axes>"
      ]
     },
     "metadata": {},
     "output_type": "display_data"
    }
   ],
   "source": [
    "# France\n",
    "france_sales = sales_registers[countries_registers == \"France\"]\n",
    "distribution_plotter(france_sales, \"France sales\")"
   ]
  },
  {
   "cell_type": "code",
   "execution_count": 37,
   "metadata": {},
   "outputs": [
    {
     "data": {
      "image/png": "[encoded data removed]",
      "text/plain": [
       "<Figure size 504x360 with 1 Axes>"
      ]
     },
     "metadata": {},
     "output_type": "display_data"
    }
   ],
   "source": [
    "# Spain\n",
    "spain_sales = sales_registers[countries_registers == \"Spain\"]\n",
    "distribution_plotter(spain_sales, \"Spain sales\")"
   ]
  },
  {
   "cell_type": "code",
   "execution_count": 38,
   "metadata": {},
   "outputs": [
    {
     "data": {
      "image/png": "[encoded data removed]",
      "text/plain": [
       "<Figure size 504x360 with 1 Axes>"
      ]
     },
     "metadata": {},
     "output_type": "display_data"
    }
   ],
   "source": [
    "# All countries\n",
    "distribution_plotter(sales_registers, \"All sales\")"
   ]
  },
  {
   "cell_type": "code",
   "execution_count": null,
   "metadata": {},
   "outputs": [],
   "source": [
    "# Todas las distribuciones tienden a tener asimetría a derecha. Podemos verificar en el siguiente ejercicio que en cada caso,\n",
    "# la mediana es siempre menor que la media (lo que es una característica de esta asimetría)."
   ]
  },
  {
   "cell_type": "markdown",
   "metadata": {},
   "source": [
    "## Ejercicio 3\n",
    "Para los tres países del punto anterior, calcular con dos decimales\n",
    "* Media\n",
    "* Mediana\n",
    "* Rango\n",
    "* Desvío estandard\n",
    "\n",
    "Repetir para todos los datos de ventas sin distinguir por país.\n",
    "\n",
    "¿Qué conclusiones pueden sacar respecto a la información que brinda cada una de estas medidas en este caso particular?"
   ]
  },
  {
   "cell_type": "code",
   "execution_count": 45,
   "metadata": {},
   "outputs": [
    {
     "name": "stdout",
     "output_type": "stream",
     "text": [
      "-Mean- -Median- -Range- -STD-\n",
      "3613.53 3236.06 13541.66 1880.0\n"
     ]
    }
   ],
   "source": [
    "# USA\n",
    "usa_mean = np.mean(usa_sales)\n",
    "usa_median = np.median(usa_sales)\n",
    "usa_range = np.max(usa_sales) - np.min(usa_sales)\n",
    "usa_std = np.std(usa_sales)\n",
    "print(\"-Mean-\", \"-Median-\", \"-Range-\", \"-STD-\")\n",
    "print(round(usa_mean, 2), round(usa_median, 2), round(usa_range, 2), round(usa_std, 2))"
   ]
  },
  {
   "cell_type": "code",
   "execution_count": 46,
   "metadata": {},
   "outputs": [
    {
     "name": "stdout",
     "output_type": "stream",
     "text": [
      "-Mean- -Median- -Range- -STD-\n",
      "3537.95 3154.3 11257.57 1939.21\n"
     ]
    }
   ],
   "source": [
    "# France\n",
    "france_mean = np.mean(france_sales)\n",
    "france_median = np.median(france_sales)\n",
    "france_range = np.max(france_sales) - np.min(france_sales)\n",
    "france_std = np.std(france_sales)\n",
    "print(\"-Mean-\", \"-Median-\", \"-Range-\", \"-STD-\")\n",
    "print(round(france_mean, 2), round(france_median, 2), round(france_range, 2), round(france_std, 2))"
   ]
  },
  {
   "cell_type": "code",
   "execution_count": 47,
   "metadata": {},
   "outputs": [
    {
     "name": "stdout",
     "output_type": "stream",
     "text": [
      "-Mean- -Median- -Range- -STD-\n",
      "3554.64 3213.8 11317.2 1833.14\n"
     ]
    }
   ],
   "source": [
    "# Spain\n",
    "spain_mean = np.mean(spain_sales)\n",
    "spain_median = np.median(spain_sales)\n",
    "spain_range = np.max(spain_sales) - np.min(spain_sales)\n",
    "spain_std = np.std(spain_sales)\n",
    "print(\"-Mean-\", \"-Median-\", \"-Range-\", \"-STD-\")\n",
    "print(round(spain_mean, 2), round(spain_median, 2), round(spain_range, 2), round(spain_std, 2))"
   ]
  },
  {
   "cell_type": "code",
   "execution_count": 48,
   "metadata": {},
   "outputs": [
    {
     "name": "stdout",
     "output_type": "stream",
     "text": [
      "-Mean- -Median- -Range- -STD-\n",
      "3553.89 3184.8 13600.67 1841.54\n"
     ]
    }
   ],
   "source": [
    "# All countries\n",
    "all_countries_mean = np.mean(sales_registers)\n",
    "all_countries_median = np.median(sales_registers)\n",
    "all_countries_range = np.max(sales_registers) - np.min(sales_registers)\n",
    "all_countries_std = np.std(sales_registers)\n",
    "print(\"-Mean-\", \"-Median-\", \"-Range-\", \"-STD-\")\n",
    "print(round(all_countries_mean, 2), round(all_countries_median, 2), round(all_countries_range, 2), round(all_countries_std, 2))"
   ]
  },
  {
   "cell_type": "code",
   "execution_count": null,
   "metadata": {},
   "outputs": [],
   "source": [
    "# De los 3 países, USA es el que tiene mayor rango de precio de ventas y Francia es el que tiene el mayor desvío estándar.\n",
    "\n",
    "# En la distribución de todos los países, se ve una clara tendencia de que priman las ventas más económicas y en mucha menor medida, \n",
    "# las ventas más costosas."
   ]
  }
 ],
 "metadata": {
  "kernelspec": {
   "display_name": "Python 3",
   "language": "python",
   "name": "python3"
  },
  "language_info": {
   "codemirror_mode": {
    "name": "ipython",
    "version": 3
   },
   "file_extension": ".py",
   "mimetype": "text/x-python",
   "name": "python",
   "nbconvert_exporter": "python",
   "pygments_lexer": "ipython3",
   "version": "3.8.10"
  }
 },
 "nbformat": 4,
 "nbformat_minor": 4
}
