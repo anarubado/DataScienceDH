{
 "cells": [
  {
   "cell_type": "code",
   "execution_count": 4,
   "metadata": {},
   "outputs": [
    {
     "name": "stdout",
     "output_type": "stream",
     "text": [
      "C:\\Users\\anabella\\Documents\\DH\\Actividades\\clase_03\\dsad_2021\\common\n",
      "default checking\n",
      "Running command `conda list`... ok\n",
      "jupyterlab=2.2.6 already installed\n",
      "pandas=1.1.5 already installed\n",
      "bokeh=2.2.3 already installed\n",
      "seaborn=0.11.0 already installed\n",
      "matplotlib=3.3.2 already installed\n",
      "ipywidgets=7.5.1 already installed\n",
      "pytest=6.2.1 already installed\n",
      "chardet=4.0.0 already installed\n",
      "psutil=5.7.2 already installed\n",
      "scipy=1.5.2 already installed\n",
      "statsmodels=0.12.1 already installed\n",
      "scikit-learn=0.23.2 already installed\n",
      "xlrd=2.0.1 already installed\n",
      "Running command `conda install --yes nltk=3.5.0`... ok\n",
      "Collecting package metadata (current_repodata.json): ...working... done\n",
      "Solving environment: ...working... done\n",
      "\n",
      "# All requested packages already installed.\n",
      "\n",
      "\n",
      "unidecode=1.1.1 already installed\n",
      "pydotplus=2.0.2 already installed\n",
      "pandas-datareader=0.9.0 already installed\n",
      "flask=1.1.2 already installed\n"
     ]
    }
   ],
   "source": [
    "# settings local:\n",
    "%run \"../../../common/0_notebooks_base_setup.py\"   "
   ]
  },
  {
   "cell_type": "markdown",
   "metadata": {},
   "source": [
    "---\n",
    "\n",
    "<img src='../../../common/logo_DH.png' align='left' width=35%/>\n"
   ]
  },
  {
   "cell_type": "markdown",
   "metadata": {},
   "source": [
    "En la práctica de la clase de hoy usaremos un dataset de Kaggle que tiene datos de ventas:\n",
    "\n",
    "https://www.kaggle.com/kyanyoga/sample-sales-data\n",
    "\n",
    "Ustedes tienen un subconjunto de los datos disponibles, que usaremos para resolver ejercicios de Numpy."
   ]
  },
  {
   "cell_type": "markdown",
   "metadata": {},
   "source": [
    "## Ejercicio 1\n",
    "\n",
    "Leer los datos del archivo /M1/CLASE_03_Numpy/Data/sales_data_sample_excercise.csv\n",
    "\n",
    "Este archivo tiene algunos datos numéricos y otros de tipo cadena de caracteres. \n",
    "\n",
    "Las columnas son:\n",
    "\n",
    "* ORDERNUMBER: int, id de la orden\n",
    "\n",
    "* SALES: float, monto abonado\n",
    "\n",
    "* MONTH_ID: int, mes\n",
    "\n",
    "* YEAR_ID: int, año\n",
    "\n",
    "* PRODUCTLINE: str, producto\n",
    "\n",
    "* COUNTRY: str, país de venta\n",
    "\n",
    "¿Recuerdan que todos los elementos de una instancia de ndarray deben ser del mismo tipo? Entonces vamos a leer el archivo y crear una instancia de ndarray de tipo cadena de caracteres.\n",
    "\n",
    "¿Qué pasaría si intentáramos crear una instancia de tipo int? ¿Y de tipo float?\n"
   ]
  },
  {
   "cell_type": "code",
   "execution_count": 5,
   "metadata": {},
   "outputs": [
    {
     "data": {
      "text/plain": [
       "array([['10107', '2871', '2', '2003', 'Motorcycles', 'USA'],\n",
       "       ['10121', '2765.9', '5', '2003', 'Motorcycles', 'France'],\n",
       "       ['10134', '3884.34', '7', '2003', 'Motorcycles', 'France'],\n",
       "       ...,\n",
       "       ['10386', '5417.57', '3', '2005', 'Ships', 'Spain'],\n",
       "       ['10397', '2116.16', '3', '2005', 'Ships', 'France'],\n",
       "       ['10414', '3079.44', '5', '2005', 'Ships', 'USA']], dtype='<U16')"
      ]
     },
     "execution_count": 5,
     "metadata": {},
     "output_type": "execute_result"
    }
   ],
   "source": [
    "import numpy as np\n",
    "data = np.genfromtxt(\"../Data/sales_data_sample_exercise.csv\", skip_header=1, delimiter=\"\\t\", dtype=str)\n",
    "data\n",
    "# Si instanciamos con tipo de dato int o float, perderíamos información."
   ]
  },
  {
   "cell_type": "markdown",
   "metadata": {},
   "source": [
    "## Ejercicio 2\n",
    "\n",
    "Crear un array numérico que tenga como valores las columna SALES y otro array de str que tenga como valores la columna COUNTRY\n",
    "\n",
    "Ayuda: https://docs.scipy.org/doc/numpy/reference/generated/numpy.ndarray.astype.html"
   ]
  },
  {
   "cell_type": "code",
   "execution_count": 7,
   "metadata": {},
   "outputs": [
    {
     "data": {
      "text/plain": [
       "array([2871.  , 2765.9 , 3884.34, ..., 5417.57, 2116.16, 3079.44])"
      ]
     },
     "execution_count": 7,
     "metadata": {},
     "output_type": "execute_result"
    }
   ],
   "source": [
    "sales = data[:, 1].astype(\"float\")\n",
    "sales"
   ]
  },
  {
   "cell_type": "code",
   "execution_count": 8,
   "metadata": {},
   "outputs": [
    {
     "data": {
      "text/plain": [
       "array(['USA', 'France', 'France', ..., 'Spain', 'France', 'USA'],\n",
       "      dtype='<U16')"
      ]
     },
     "execution_count": 8,
     "metadata": {},
     "output_type": "execute_result"
    }
   ],
   "source": [
    "countries = data[:,5]\n",
    "countries"
   ]
  },
  {
   "cell_type": "markdown",
   "metadata": {},
   "source": [
    "## Ejercicio 3\n",
    "\n",
    "¿Cuál fue el monto mínimo de una venta? ¿Cuál fue el monto máximo?"
   ]
  },
  {
   "cell_type": "code",
   "execution_count": 9,
   "metadata": {},
   "outputs": [
    {
     "data": {
      "text/plain": [
       "482.13"
      ]
     },
     "execution_count": 9,
     "metadata": {},
     "output_type": "execute_result"
    }
   ],
   "source": [
    "minimum = np.min(sales)\n",
    "minimum"
   ]
  },
  {
   "cell_type": "code",
   "execution_count": 10,
   "metadata": {},
   "outputs": [
    {
     "data": {
      "text/plain": [
       "14082.8"
      ]
     },
     "execution_count": 10,
     "metadata": {},
     "output_type": "execute_result"
    }
   ],
   "source": [
    "maximum = np.max(sales)\n",
    "maximum"
   ]
  },
  {
   "cell_type": "markdown",
   "metadata": {},
   "source": [
    "## Ejercicio 4\n",
    "\n",
    "¿Cuántas ventas se hicieron en Spain?\n",
    "\n",
    "Ayuda: boolean indexing\n"
   ]
  },
  {
   "cell_type": "code",
   "execution_count": 20,
   "metadata": {},
   "outputs": [
    {
     "name": "stdout",
     "output_type": "stream",
     "text": [
      "Se hicieron 342 ventas en España\n"
     ]
    }
   ],
   "source": [
    "spain_sales = countries[countries == \"Spain\"]\n",
    "spain_quantity_sales = spain_sales.size\n",
    "print(\"Se hicieron\", spain_quantity_sales, \"ventas en España\")"
   ]
  },
  {
   "cell_type": "markdown",
   "metadata": {},
   "source": [
    "## Ejercicio 5\n",
    "\n",
    "¿Qué porcentaje de las ventas se hicieron en Spain?\n"
   ]
  },
  {
   "cell_type": "code",
   "execution_count": 21,
   "metadata": {},
   "outputs": [
    {
     "name": "stdout",
     "output_type": "stream",
     "text": [
      "El porcentaje de ventas que se hicieron en España es del 12.11 %\n"
     ]
    }
   ],
   "source": [
    "spain_percentage = np.divide(spain_quantity_sales, countries.size) * 100\n",
    "print(\"El porcentaje de ventas que se hicieron en España es del\", np.round(spain_percentage, 2), \"%\")"
   ]
  },
  {
   "cell_type": "markdown",
   "metadata": {},
   "source": [
    "## Ejercicio 6\n",
    "\n",
    "¿Cuál es el país de la venta de precio máximo? ¿Cuál es el id de esa venta?\n",
    "\n",
    "Ayuda: boolean indexing"
   ]
  },
  {
   "cell_type": "code",
   "execution_count": 41,
   "metadata": {},
   "outputs": [
    {
     "name": "stdout",
     "output_type": "stream",
     "text": [
      "El país de la venta de precio máximo es USA\n",
      "El id de esa venta es 10407\n"
     ]
    }
   ],
   "source": [
    "maximum = np.max(sales)\n",
    "\n",
    "index_maximum_sale = np.where(sales == maximum)[0]\n",
    "\n",
    "country_maximum_sale = countries[index_maximum_sale][0]\n",
    "\n",
    "id_sale =  data[index_maximum_sale, 0][0]\n",
    "\n",
    "print(\"El país de la venta de precio máximo es\", country_maximum_sale)\n",
    "print(\"El id de esa venta es\", id_sale)"
   ]
  },
  {
   "cell_type": "markdown",
   "metadata": {},
   "source": [
    "## Ejercicio 7\n",
    "\n",
    "¿Cuál es el precio promedio de ventas en France? ¿Cuál es el desvío?"
   ]
  },
  {
   "cell_type": "code",
   "execution_count": 51,
   "metadata": {},
   "outputs": [
    {
     "name": "stdout",
     "output_type": "stream",
     "text": [
      "El precio promedio de ventas en Francia es de 3537.95\n",
      "El desvío es 1939.21\n"
     ]
    }
   ],
   "source": [
    "indexes_france = np.where(countries == \"France\")[0]\n",
    "\n",
    "sales_france = sales[indexes_france]\n",
    "\n",
    "mean_sales_france = round(np.mean(sales_france), 2)\n",
    "\n",
    "std_sales_france = round(np.std(sales_france), 2)\n",
    "\n",
    "print(\"El precio promedio de ventas en Francia es de\", mean_sales_france)\n",
    "print(\"El desvío es\", std_sales_france)"
   ]
  },
  {
   "cell_type": "markdown",
   "metadata": {},
   "source": [
    "## Ejercicio 8\n",
    "\n",
    "¿Cuál fue el año con máximo desvío en las ventas en France?\n",
    "\n",
    "Ayuda: https://docs.scipy.org/doc/numpy/reference/generated/numpy.unique.html"
   ]
  },
  {
   "cell_type": "code",
   "execution_count": 55,
   "metadata": {},
   "outputs": [
    {
     "data": {
      "text/plain": [
       "array([2003, 2004, 2005])"
      ]
     },
     "execution_count": 55,
     "metadata": {},
     "output_type": "execute_result"
    }
   ],
   "source": [
    "years = np.unique(data[:,3]).astype(np.int)\n",
    "years"
   ]
  },
  {
   "cell_type": "code",
   "execution_count": 67,
   "metadata": {},
   "outputs": [
    {
     "data": {
      "text/plain": [
       "{2003: 1860.77, 2004: 1837.84, 2005: 2241.77}"
      ]
     },
     "execution_count": 67,
     "metadata": {},
     "output_type": "execute_result"
    }
   ],
   "source": [
    "std_per_year_france = {}\n",
    "for year in years:\n",
    "    mask = (data[:,5] == \"France\") & (data[:,3].astype(np.int) == year)\n",
    "    year_sales = data[mask]\n",
    "    std = np.std(year_sales[:,1].astype(np.float)).round(2)\n",
    "    std_per_year_france[year] = std\n",
    "std_per_year_france"
   ]
  },
  {
   "cell_type": "code",
   "execution_count": 86,
   "metadata": {},
   "outputs": [
    {
     "data": {
      "text/plain": [
       "2241.77"
      ]
     },
     "execution_count": 86,
     "metadata": {},
     "output_type": "execute_result"
    }
   ],
   "source": [
    "max_value_std = max(std_per_year_france.values())\n",
    "max_value_std"
   ]
  },
  {
   "cell_type": "code",
   "execution_count": 88,
   "metadata": {},
   "outputs": [
    {
     "name": "stdout",
     "output_type": "stream",
     "text": [
      "2005\n"
     ]
    }
   ],
   "source": [
    "for year in years:\n",
    "    if std_per_year_france[year] == max_value_std:\n",
    "        print(year)        "
   ]
  }
 ],
 "metadata": {
  "kernelspec": {
   "display_name": "Python 3",
   "language": "python",
   "name": "python3"
  },
  "language_info": {
   "codemirror_mode": {
    "name": "ipython",
    "version": 3
   },
   "file_extension": ".py",
   "mimetype": "text/x-python",
   "name": "python",
   "nbconvert_exporter": "python",
   "pygments_lexer": "ipython3",
   "version": "3.8.10"
  }
 },
 "nbformat": 4,
 "nbformat_minor": 4
}
