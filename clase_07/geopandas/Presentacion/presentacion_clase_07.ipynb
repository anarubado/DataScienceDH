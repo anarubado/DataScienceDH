{
 "cells": [
  {
   "cell_type": "code",
   "execution_count": 2,
   "metadata": {
    "slideshow": {
     "slide_type": "skip"
    }
   },
   "outputs": [],
   "source": [
    "# initial setup\n",
    "#%run \"../../../common/0_notebooks_base_setup.py\"\n"
   ]
  },
  {
   "cell_type": "code",
   "execution_count": 3,
   "metadata": {
    "slideshow": {
     "slide_type": "skip"
    }
   },
   "outputs": [],
   "source": [
    "# NOTA: Esta es la forma de armar html con algun contenido dinamico. No borrar porque sirve como ejemplo\n",
    "\n",
    "# cargo los estilos y la portada:\n",
    "\n",
    "#css_path = '../../../common/dhds.css'\n",
    "\n",
    "#raw_html = '<div class=\"Table\">' \\\n",
    "#    '<div class=\"Row\">' \\\n",
    "#        '<div class=\"Cell grey left\"> <img src=\"' + gs.images_base_url + 'M1/CLASE_02_Python1/Presentacion/img/M1_CLASE_02_portada.png\" align=\"center\" /></div>' \\\n",
    "#        '<div class=\"Cell right\">' \\\n",
    "#            '<div class=\"div-logo\"><img src=\"' + gs.images_base_url + 'common/logo_DH.png\" align=\"center\" width=70% /></div>' \\\n",
    "#            '<div class=\"div-curso\">DATA SCIENCE</div>' \\\n",
    "#            '<div class=\"div-modulo\">MÓDULO 1</div>' \\\n",
    "#            '<div class=\"div-contenido\">Entornos (Conda y Jupyter Notebooks) <br/> Repaso de Python</div>' \\\n",
    "#        '</div>' \\\n",
    "#    '</div>' \\\n",
    "#'</div>'        \n"
   ]
  },
  {
   "cell_type": "code",
   "execution_count": 4,
   "metadata": {
    "slideshow": {
     "slide_type": "skip"
    },
    "tags": [
     "to_remove"
    ]
   },
   "outputs": [],
   "source": [
    "# importante: tagear como slide to remove y generar por linea de comandos \n",
    "#from IPython.display import HTML as html\n",
    "#html(\"<link rel='stylesheet' href='\" + css_path + \"'>\" + raw_html)"
   ]
  },
  {
   "cell_type": "markdown",
   "metadata": {
    "slideshow": {
     "slide_type": "slide"
    }
   },
   "source": [
    "<link rel=\"stylesheet\" href='../../../common/dhds.css'>\n",
    "<div class=\"Table\">\n",
    "    <div class=\"Row\">\n",
    "        <div class=\"Cell grey left\"> <img src=\"https://raw.githubusercontent.com/Digital-House-DATA/ds_blend_2021_img/master/M1/CLASE_07_Geopandas/Presentacion/img/M1_CLASE_07_portada.PNG\" align=\"center\" width=90%/> </div>                \n",
    "    <div class=\"Cell right\">\n",
    "            <div class=\"div-logo\"><img src=\"https://raw.githubusercontent.com/Digital-House-DATA/ds_blend_2021_img/master/common/logo_DH.png\" align=\"center\" width=70% /></div> \n",
    "            <div class=\"div-curso\">DATA SCIENCE</div>\n",
    "            <div class=\"div-modulo\">MÓDULO 1</div>            \n",
    "            <div class=\"div-contenido\">GeoPandas</div>        \n",
    "        </div>\n",
    "    </div>    \n",
    "</div>        "
   ]
  },
  {
   "cell_type": "markdown",
   "metadata": {
    "slideshow": {
     "slide_type": "slide"
    }
   },
   "source": [
    "## Objetivos de la clase\n",
    "\n",
    "---\n",
    "\n",
    "- Comprender los GIS (Sistemas de Información Geográfica)\n",
    "\n",
    "- Conocer los tipos de datos geoespaciales\n",
    "\n",
    "- Manejar la libreria GeoPandas y sus tipos de datos\n",
    "\n",
    "- Realizar operaciones con los datos geoespaciales usando GeoPandas"
   ]
  },
  {
   "cell_type": "markdown",
   "metadata": {
    "slideshow": {
     "slide_type": "slide"
    }
   },
   "source": [
    "<div class=\"div-dhds-fondo-1\">  GIS (Sistemas de Información Geográfica)\n",
    "<img src=\"https://raw.githubusercontent.com/Digital-House-DATA/ds_blend_2021_img/master/M1/CLASE_05_Pandas1/Presentacion/img/M1_CLASE_05_separador.png\" align=\"center\"></img>    \n",
    "</div>\n"
   ]
  },
  {
   "cell_type": "markdown",
   "metadata": {
    "slideshow": {
     "slide_type": "slide"
    }
   },
   "source": [
    "### Sistemas de Información Geográfica (SIG)\n",
    "\n",
    "---\n",
    "\n",
    "Se definen como sistemas que permiten almacenar datos geoespaciales para su consulta, manipulación y representación. La representación de estos datos es el campo de estudio de la *Cartografía*. A partir del trabajo con los SIG, nació una nueva disciplina científica, conocida como *Ciencia de la Información Geográfica*.\n",
    "\n",
    "<div>\n",
    "    <div class = \"mapa\">\n",
    "        <img src='https://raw.githubusercontent.com/Digital-House-DATA/ds_blend_2021_img/master/M1/CLASE_07_Geopandas/Presentacion/img/M1_Clase_07_1_001_SIG.jpg' alt=\"Ejemplo de SIG\" width=30% height=40% align=\"center\">\n",
    "    </div>\n",
    "</div>\n",
    "\n",
    "El sistema permite separar la información en diferentes capas temáticas, las almacena independientemente, y luego se pueden presentar todas juntas.\n",
    "\n",
    "<div>\n",
    "    <div class = \"mapa\">\n",
    "        <img src='https://raw.githubusercontent.com/Digital-House-DATA/ds_blend_2021_img/master/M1/CLASE_07_Geopandas/Presentacion/img/M1_Clase_07_1_002_Capas.PNG' alt=\"Varias capas temáticas\" width=40% height=50% align=\"center\">\n",
    "    </div>\n",
    "</div>"
   ]
  },
  {
   "cell_type": "markdown",
   "metadata": {
    "slideshow": {
     "slide_type": "slide"
    }
   },
   "source": [
    "### Datos Geoespaciales\n",
    "\n",
    "---\n",
    "\n",
    "Los **Datos Geoespaciales**, también llamados información geográfica, geodatos o simplemente datos espaciales, son datos georreferenciados. La *georreferenciación* es la técnica de posicionamiento espacial de una entidad en una localización geográfica única y bien definida en un *sistema de coordenadas*.\n",
    "\n",
    "Los geodatos poseen información *implícita* (cantidad de habitantes, una referencia catastral, una dirección postal, etc.) o *explícita* (coordenadas de ubicación obtenidas a partir de datos capturados mediante GPS, etc.)."
   ]
  },
  {
   "cell_type": "markdown",
   "metadata": {
    "slideshow": {
     "slide_type": "slide"
    }
   },
   "source": [
    "### Sistema de coordenadas geográficas\n",
    "\n",
    "---\n",
    "\n",
    "Son los sistemas que permiten referenciar un objeto en una posición espacial determinada. El sistema más usual es el WGS 84, que usa las medidas *latitud* y *longitud*.\n",
    "      \n",
    "Si consideramos a la Tierra como una esfera (o esferoide), existen dos líneas fundamentales: el *meridiano de Greenwich*, que va de un polo a otro, y el *Ecuador*, que cruza al eje de rotación por el centro de la esfera. Las líneas paralelas al Ecuador se denominan *latitud*, y las lineas paralelas a Greenwich, *longitud*.\n",
    "      \n",
    "<div>\n",
    "    <div class = \"mapa\">\n",
    "        <img src='https://raw.githubusercontent.com/Digital-House-DATA/ds_blend_2021_img/master/M1/CLASE_07_Geopandas/Presentacion/img/M1_Clase_07_1_008_Latitud_Longitud.PNG' alt=\"Latitud y Longitud\" width=40% height=30% align=\"center\">\n",
    "    </div>\n",
    "</div> \n",
    "      \n",
    "La *latitud* se indica con valores positivos entre 0 y 90 para las líneas al norte del Ecuador, y con valores negativos entre 0 y -90 para las que están al sur. Otra forma de nombrarlas es usando siempre un valor positivo entre 0 y 90, y agregando si corresponde al Norte o al Sur.\n",
    "      \n",
    "La *longitud* se indica en forma similar, pero con valores positivos entre 0 y 180 para las líneas al este de Greenwich, y con valores negativos entre 0 y -180 para las que están al oeste. O bien siempre un valor positivo entre 0 y 180, e indicando este u oeste."
   ]
  },
  {
   "cell_type": "markdown",
   "metadata": {
    "slideshow": {
     "slide_type": "slide"
    }
   },
   "source": [
    "<div class=\"div-dhds-fondo-1\">  Tipos de Datos Geoespaciales\n",
    "<img src=\"https://raw.githubusercontent.com/Digital-House-DATA/ds_blend_2021_img/master/M1/CLASE_05_Pandas1/Presentacion/img/M1_CLASE_05_separador.png\" align=\"center\"></img>    \n",
    "</div>"
   ]
  },
  {
   "cell_type": "markdown",
   "metadata": {
    "slideshow": {
     "slide_type": "slide"
    }
   },
   "source": [
    "### Tipos de Datos Geoespaciales\n",
    "\n",
    "---\n",
    "\n",
    "Existen dos tipos de datos geoespaciales en los Sistemas de Información Geográfica: *raster* y *vectorial*."
   ]
  },
  {
   "cell_type": "markdown",
   "metadata": {
    "slideshow": {
     "slide_type": "slide"
    }
   },
   "source": [
    "### Tipos de Datos Raster\n",
    "\n",
    "---\n",
    "\n",
    "El tipo de datos **raster** es lo que consideramos imagenes digitales, o mapas. Se representan mediante mallas o cuadriculas; divide el espacio en celdas regulares donde cada una de ellas representa un único valor. Similar a la fotografía digital donde el píxel es la unidad menor de información de una imagen, y una combinación de estos píxeles crea una imagen. \n",
    "\n",
    "Este tipo de datos se centra en las propiedades del espacio, por ejemplo, elevaciones sobre un terreno, nivel de luz, variedad de cultivos. No siendo tan precisos en la localizacion en el espacio.\n",
    "\n",
    "<div>\n",
    "    <div class = \"mapa\">\n",
    "        <img src='https://raw.githubusercontent.com/Digital-House-DATA/ds_blend_2021_img/master/M1/CLASE_07_Geopandas/Presentacion/img/M1_Clase_07_1_003_Mapa.PNG' alt=\"Datos tipo raster\" width=60% align=\"center\">\n",
    "    </div>\n",
    "</div> \n",
    "\n",
    "Mapa y mapa pixelado"
   ]
  },
  {
   "cell_type": "markdown",
   "metadata": {
    "slideshow": {
     "slide_type": "slide"
    }
   },
   "source": [
    "### Tipos de Datos Vectorial\n",
    "\n",
    "---\n",
    "\n",
    "El tipo de datos **vectorial** representan objetos que provienen de diversas fuentes: localidades, negocios, barrios, rutas, nivel de contaminación, etc. Son datos discretos, es decir, con limites definidos. Y con una localizacion precisa sobre el espacio. \n",
    "\n",
    "<div>\n",
    "    <div class = \"mapa\">\n",
    "        <img src='https://raw.githubusercontent.com/Digital-House-DATA/ds_blend_2021_img/master/M1/CLASE_07_Geopandas/Presentacion/img/M1_Clase_07_1_005_Vectorial.PNG' alt=\"Tipo de dato Vectorial\" width=30% height=40%>\n",
    "    </div>\n",
    "</div>\n",
    "\n",
    "Para modelar los objetos se utilizan tres formas: el punto, la línea y el polígono.\n",
    "<div>\n",
    "    <div class = \"mapa\">\n",
    "        <img src='https://raw.githubusercontent.com/Digital-House-DATA/ds_blend_2021_img/master/M1/CLASE_07_Geopandas/Presentacion/img/M1_Clase_07_1_006_Vectorial.PNG' alt=\"Elementos geométricos\" width=30% height=40%>\n",
    "    </div>\n",
    "</div>\n"
   ]
  },
  {
   "cell_type": "markdown",
   "metadata": {
    "slideshow": {
     "slide_type": "slide"
    }
   },
   "source": [
    "### Tipos de Datos Vectorial\n",
    "\n",
    "---\n",
    "\n",
    "- Los **puntos** se utilizan para las entidades geográficas que mejor pueden ser expresadas por un único punto de referencia. Por ejemplo, estaciones de subte, edificios, localizaciones de los pozos, puntos de interés.\n",
    "- Las **líneas unidimensionales o polilíneas** son usadas para rasgos lineales como ríos, caminos, ferrocarriles, líneas topográficas o curvas de nivel. En los elementos lineales puede medirse la *distancia*.\n",
    "- Los **polígonos** se utilizan para representar elementos geográficos que cubren un área particular de la superficie de la tierra. Por ejemplo, lagos, límites de parques naturales, yacimientos, provincias. Con ellos se pueden medir el *perímetro* y el *área*.\n",
    "<div>\n",
    "    <div class = \"mapa\">\n",
    "        <img src='https://raw.githubusercontent.com/Digital-House-DATA/ds_blend_2021_img/master/M1/CLASE_07_Geopandas/Presentacion/img/M1_Clase_07_1_010_Formas.PNG' alt=\"Elementos geométricos\" width=70% >\n",
    "    </div>\n",
    "</div>"
   ]
  },
  {
   "cell_type": "markdown",
   "metadata": {
    "slideshow": {
     "slide_type": "slide"
    }
   },
   "source": [
    "### Archivos de Datos Geoespaciales\n",
    "\n",
    "---\n",
    "\n",
    "En general, se denomina formato SIG a los formatos de archivos con datos geoespaciales.\n",
    "\n",
    "Los datos geoespaciales de tipo *raster* se almacenan en los tipos de archivos que conocemos para almacenar imágenes. Por ejemplo, los formatos TIFF, JPEG, PNG, etc. \n",
    "\n",
    "Los datos geoespaciales de tipo *vectorial* más comunes son: \n",
    "\n",
    "- **SHP (Shapefile).** El archivo shapefile es el tipo de archivo geoespacial más común. Todos los formatos comerciales y de código abierto aceptan shapefile como formatos SIG. Se ha convertido en el estándar de la industria.\n",
    "\n",
    "- **CSV / GeoCSV.**  CSV (Comma-separated values) representa datos en forma de tabla separados por comas. Es usual encontrarlos en publicaciones de organismos, por ejemplo https://data.buenosaires.gob.ar/dataset. La ventaja es que ocupan poco espacio y es fácil compartirlos. GeoCSV es el mismo formato CSV con una extensión de geometría espacial.\n",
    "\n",
    "Existen otros tipos de archivos, por ejemplo: GeoJSON (Javascript Object Notation), KMZ/KML (Keyhole Markup Language), OSM (OpenStreetMap), PostGIS + PostgreSQL, etc."
   ]
  },
  {
   "cell_type": "markdown",
   "metadata": {
    "slideshow": {
     "slide_type": "slide"
    }
   },
   "source": [
    "<div class=\"div-dhds-fondo-1\">  GeoPandas\n",
    "<img src=\"https://raw.githubusercontent.com/Digital-House-DATA/ds_blend_2021_img/master/M1/CLASE_05_Pandas1/Presentacion/img/M1_CLASE_05_separador.png\" align=\"center\"></img>    \n",
    "</div>"
   ]
  },
  {
   "cell_type": "markdown",
   "metadata": {
    "slideshow": {
     "slide_type": "slide"
    }
   },
   "source": [
    "### GeoPandas\n",
    "\n",
    "---\n",
    "\n",
    "**GeoPandas** es una biblioteca que permite trabajar con datos geoespaciales en Python. Para ello, usa las facilidades de otras bibliotecas de Python.\n",
    "\n",
    "- Extiende la funcionalidad de **pandas**. Es decir que se pueden realizar todas las operaciones que se aplican a las *Series* y *DataFrame*. \n",
    "\n",
    "- Provee una interfaz con la libreria **matplotlib** para generar mapas. Las figuras geométricas se pueden mapear facilmente con el método plot().\n",
    "\n",
    "- Permite operaciones sobre los datos geométricos que representan a los datos espaciales (puntos, líneas y polígonos). Para ello hace uso de la libreria **shapely**.\n",
    "\n",
    "- Facilita el acceso a datos en múltiples *formatos de archivos*, extendiendo las operaciones que brinda la librería **fiona**.\n",
    "\n",
    "- Realiza **proyecciones**, es decir, permite usar distintos tipos de coordenadas para referenciar la posición geográfica de los datos geoespaciales."
   ]
  },
  {
   "cell_type": "markdown",
   "metadata": {
    "slideshow": {
     "slide_type": "slide"
    }
   },
   "source": [
    "### GeoSeries y GeoDataFrame\n",
    "\n",
    "---\n",
    "Así como *Pandas* tiene como estructura de datos a las *Series* y *Dataframe*, *Geopandas* tiene algo similar llamado *Geoseries* y *GeoDataFrame*.\n",
    "\n",
    "La diferencia entre ellos es que tanto **GeoSeries** como **GeoDataFrame**, deben contener al menos una columna con tipos de datos geoespaciales. Esta columna se la llama por default *geometry*.\n",
    "\n",
    "La columna *geometry* contiene una forma geométrica que representa la posición espacial del objeto. Por ejemplo, la posicion espacial de un negocio - sus coordenadas- se expresan mediante la forma geométrica *punto*.\n",
    "\n",
    "Las formas geométricas son:\n",
    "- POINT. Un punto\n",
    "- LINESTRING. Una línea\n",
    "- POLYGON. Una superficie\n",
    "\n",
    "También se pueden representar colecciones de formas:\n",
    "\n",
    "- MULTIPOINT. Varios puntos\n",
    "- MULTILINESTRING. Varias líneas\n",
    "- MULTIPOLYGON. Varias superficies"
   ]
  },
  {
   "cell_type": "markdown",
   "metadata": {
    "slideshow": {
     "slide_type": "slide"
    }
   },
   "source": [
    "### En Python\n",
    "\n",
    "Vamos a trabajar con algunos datos geoespaciales con GeoPandas.\n",
    "\n",
    "* Puntos, que representan un lugar determinado. Como tienen cero dimensiones no se puede medir la longitud ni el área. Un punto puede representar datos abstractos, como una ciudad, en una escala pequeña. A medida que se hace zoom, y se agranda la escala, se transforma en un área, un polígono.\n",
    "\n",
    "* Líneas, que pueden representar ríos, senderos, calles, etc. Como tienen una dimensión, se puede medir su longitud. Tienen un punto inicial y un punto final. También se usan para representar arcos.\n",
    "\n",
    "* Polígonos, se utilizan para representar áreas tales como el límite de una ciudad (en un mapa a gran escala), un lago o un bosque. Las características del polígono son bidimensionales y, por lo tanto, se pueden usar para medir el área y el perímetro de una característica geográfica."
   ]
  },
  {
   "cell_type": "markdown",
   "metadata": {
    "slideshow": {
     "slide_type": "slide"
    }
   },
   "source": [
    "### Puntos\n",
    "\n",
    "---\n",
    "Con **puntos** vamos a representar locales bailables de Buenos Aires.\n",
    "\n",
    "Leemos un archivo del tipo de datos *CSV*, y lo transformamos en un DataFrame. Se muestran algunas filas y columnas."
   ]
  },
  {
   "cell_type": "code",
   "execution_count": 5,
   "metadata": {
    "slideshow": {
     "slide_type": "fragment"
    }
   },
   "outputs": [
    {
     "ename": "ModuleNotFoundError",
     "evalue": "No module named 'geopandas'",
     "output_type": "error",
     "traceback": [
      "\u001b[1;31m---------------------------------------------------------------------------\u001b[0m",
      "\u001b[1;31mModuleNotFoundError\u001b[0m                       Traceback (most recent call last)",
      "\u001b[1;32m<ipython-input-5-fb3eb6c59e5c>\u001b[0m in \u001b[0;36m<module>\u001b[1;34m\u001b[0m\n\u001b[0;32m      1\u001b[0m \u001b[1;32mimport\u001b[0m \u001b[0mpandas\u001b[0m \u001b[1;32mas\u001b[0m \u001b[0mpd\u001b[0m\u001b[1;33m\u001b[0m\u001b[1;33m\u001b[0m\u001b[0m\n\u001b[1;32m----> 2\u001b[1;33m \u001b[1;32mimport\u001b[0m \u001b[0mgeopandas\u001b[0m \u001b[1;32mas\u001b[0m \u001b[0mgpd\u001b[0m\u001b[1;33m\u001b[0m\u001b[1;33m\u001b[0m\u001b[0m\n\u001b[0m\u001b[0;32m      3\u001b[0m \u001b[1;32mimport\u001b[0m \u001b[0mmatplotlib\u001b[0m\u001b[1;33m.\u001b[0m\u001b[0mpyplot\u001b[0m \u001b[1;32mas\u001b[0m \u001b[0mplt\u001b[0m\u001b[1;33m\u001b[0m\u001b[1;33m\u001b[0m\u001b[0m\n\u001b[0;32m      4\u001b[0m \u001b[1;32mimport\u001b[0m \u001b[0mdescartes\u001b[0m\u001b[1;33m\u001b[0m\u001b[1;33m\u001b[0m\u001b[0m\n",
      "\u001b[1;31mModuleNotFoundError\u001b[0m: No module named 'geopandas'"
     ]
    }
   ],
   "source": [
    "import pandas as pd\n",
    "import geopandas as gpd\n",
    "import matplotlib.pyplot as plt\n",
    "import descartes"
   ]
  },
  {
   "cell_type": "code",
   "execution_count": null,
   "metadata": {
    "colab": {
     "base_uri": "https://localhost:8080/",
     "height": 289
    },
    "colab_type": "code",
    "executionInfo": {
     "elapsed": 830,
     "status": "ok",
     "timestamp": 1567641541793,
     "user": {
      "displayName": "Julián Ansaldo",
      "photoUrl": "https://lh3.googleusercontent.com/a-/AAuE7mCQI0iy6sTR9TfuLMfXZ90XCqxfdAQtMEcBkjfs1w=s64",
      "userId": "10643095115217147090"
     },
     "user_tz": 180
    },
    "id": "vRpX0jS6G_x5",
    "outputId": "178eafb8-17f3-4205-fcbe-9368fbd51efa",
    "slideshow": {
     "slide_type": "fragment"
    }
   },
   "outputs": [],
   "source": [
    "df_locales = pd.read_csv(\"../Data/locales-bailables.csv\", encoding='latin1')\n",
    "df_locales.loc[:4, ['X', 'Y','NOMBRE','CALLE','NUMERO']]"
   ]
  },
  {
   "cell_type": "markdown",
   "metadata": {
    "slideshow": {
     "slide_type": "slide"
    }
   },
   "source": [
    "### Puntos\n",
    "\n",
    "---\n",
    "Observar que la posición geoespacial de cada local se representa por la *latitud* (columna Y) y *longitud* (columna X). Son datos *numéricos*.\n",
    "\n",
    "Pero para generar un GeoDataFrame, necesitamos que una columna contenga una forma geométrica. Es este caso, un *punto*. Es recomendable que la columna se llame *geometry*.\n",
    "\n",
    "Con el método `gpd.points_from_xy(df_locales.X, df_locales.Y)` lo realizamos.\n",
    "\n",
    "**IMPORTANTE:** este método tiene dos parámetros, el primero, x, debe recibir la **longitud**, y el segundo, y, la **latitud**. Se puede pensar lógicamente que debe ser a la inversa."
   ]
  },
  {
   "cell_type": "code",
   "execution_count": null,
   "metadata": {
    "colab": {
     "base_uri": "https://localhost:8080/",
     "height": 289
    },
    "colab_type": "code",
    "executionInfo": {
     "elapsed": 830,
     "status": "ok",
     "timestamp": 1567641541793,
     "user": {
      "displayName": "Julián Ansaldo",
      "photoUrl": "https://lh3.googleusercontent.com/a-/AAuE7mCQI0iy6sTR9TfuLMfXZ90XCqxfdAQtMEcBkjfs1w=s64",
      "userId": "10643095115217147090"
     },
     "user_tz": 180
    },
    "id": "vRpX0jS6G_x5",
    "outputId": "178eafb8-17f3-4205-fcbe-9368fbd51efa",
    "slideshow": {
     "slide_type": "fragment"
    }
   },
   "outputs": [],
   "source": [
    "geo_locales = gpd.GeoDataFrame(df_locales\n",
    "                             ,geometry=gpd.points_from_xy(df_locales.X, df_locales.Y))\n",
    "\n",
    "geo_locales.loc[:4, ['geometry', 'X', 'Y','NOMBRE','CALLE','NUMERO']]"
   ]
  },
  {
   "cell_type": "markdown",
   "metadata": {
    "slideshow": {
     "slide_type": "slide"
    }
   },
   "source": [
    "### Polígonos\n",
    "\n",
    "---\n",
    "\n",
    "Con **polígonos** vamos a representar los barrios de Buenos Aires.\n",
    "\n",
    "El archivo barrios.csv es del tipo *GeoCSV*, con el formato habitual para los csv pero con una columna del tipo de datos geoespaciales *WKT*, donde se indican los contornos o límites de cada barrio.\n",
    "\n",
    "Pero la variable barrios generada a partir de la lectura del archivo es un *DataFrame, NO un GeoDataFrame*. Se debe transformar."
   ]
  },
  {
   "cell_type": "code",
   "execution_count": null,
   "metadata": {},
   "outputs": [],
   "source": [
    "barrios = pd.read_csv(\"../Data/barrios.csv\", encoding='latin1')\n",
    "barrios.head()"
   ]
  },
  {
   "cell_type": "code",
   "execution_count": null,
   "metadata": {
    "slideshow": {
     "slide_type": "fragment"
    }
   },
   "outputs": [],
   "source": [
    "type(barrios)"
   ]
  },
  {
   "cell_type": "markdown",
   "metadata": {
    "slideshow": {
     "slide_type": "slide"
    }
   },
   "source": [
    "### Polígonos\n",
    "\n",
    "---\n",
    "\n",
    "Para convertir de DataFrame a GeoDataFrame a *barrios*, debemos transformar la columna WKT en una columna del tipo *geometry*, el tipo de datos geoespaciales que requiere GeoDataFrame. Para ello, Geopandas usa la libreria **shapely**."
   ]
  },
  {
   "cell_type": "code",
   "execution_count": null,
   "metadata": {
    "colab": {},
    "colab_type": "code",
    "id": "F1J5ZR8OVecD"
   },
   "outputs": [],
   "source": [
    "import shapely.wkt\n",
    "barrios[\"WKT\"] = barrios[\"WKT\"].apply(shapely.wkt.loads) \n",
    "geo_barrios = gpd.GeoDataFrame(barrios, geometry='WKT')\n",
    "type(geo_barrios)"
   ]
  },
  {
   "cell_type": "code",
   "execution_count": null,
   "metadata": {
    "colab": {
     "base_uri": "https://localhost:8080/",
     "height": 289
    },
    "colab_type": "code",
    "executionInfo": {
     "elapsed": 830,
     "status": "ok",
     "timestamp": 1567641541793,
     "user": {
      "displayName": "Julián Ansaldo",
      "photoUrl": "https://lh3.googleusercontent.com/a-/AAuE7mCQI0iy6sTR9TfuLMfXZ90XCqxfdAQtMEcBkjfs1w=s64",
      "userId": "10643095115217147090"
     },
     "user_tz": 180
    },
    "id": "vRpX0jS6G_x5",
    "outputId": "178eafb8-17f3-4205-fcbe-9368fbd51efa",
    "slideshow": {
     "slide_type": "fragment"
    }
   },
   "outputs": [],
   "source": [
    "geo_barrios.plot()"
   ]
  },
  {
   "cell_type": "markdown",
   "metadata": {
    "slideshow": {
     "slide_type": "slide"
    }
   },
   "source": [
    "### Líneas\n",
    "\n",
    "---\n",
    "\n",
    "Las **líneas** se realizan a partir de dos puntos. \n",
    "\n",
    "Por ejemplo, generemos una línea entre el edificio de Digital House y el local bailable \"AFRIKA\". \n",
    "\n",
    "Cada lugar debe ser representado por una forma geométrica *punto*. Para lo cual necesitamos su latitud y longitud.\n",
    "\n",
    "Se usa la libreria `shapely` para generar el tipo de datos Point.\n",
    "\n",
    "Observar que para definir el tipo *punto*, primero se ingresa la **longitud** y luego la **latitud**."
   ]
  },
  {
   "cell_type": "code",
   "execution_count": null,
   "metadata": {
    "colab": {},
    "colab_type": "code",
    "id": "pcpVLTgiG_y2",
    "slideshow": {
     "slide_type": "fragment"
    }
   },
   "outputs": [],
   "source": [
    "from shapely.geometry import Point\n",
    "punto_dh = Point( -58.443555,-34.548921) # dato geoespacial de DH.\n",
    "punto_afrika = Point( -58.39239, -34.58843) # dato geoespacial de Afrika\n",
    "punto_dh.type"
   ]
  },
  {
   "cell_type": "markdown",
   "metadata": {
    "slideshow": {
     "slide_type": "fragment"
    }
   },
   "source": [
    "Y ahora sí creamos la línea entre los dos puntos, usando el método `from shapely.geometry import LineString`."
   ]
  },
  {
   "cell_type": "code",
   "execution_count": null,
   "metadata": {
    "slideshow": {
     "slide_type": "fragment"
    }
   },
   "outputs": [],
   "source": [
    "from shapely.geometry import LineString\n",
    "linea_a = LineString([punto_dh, punto_afrika])\n",
    "linea_a.type"
   ]
  },
  {
   "cell_type": "markdown",
   "metadata": {
    "slideshow": {
     "slide_type": "slide"
    }
   },
   "source": [
    "### Líneas\n",
    "\n",
    "---\n",
    "\n",
    "Y podemos graficar la línea sobre el mapa de barrios de Buenos Aires.\n",
    "\n",
    "Para ello, se necesita crear un tipo de datos GeoSeries con los dos puntos y la línea."
   ]
  },
  {
   "cell_type": "code",
   "execution_count": null,
   "metadata": {
    "slideshow": {
     "slide_type": "fragment"
    }
   },
   "outputs": [],
   "source": [
    "linea_a_geo = gpd.GeoSeries([punto_dh, punto_afrika, linea_a])"
   ]
  },
  {
   "cell_type": "code",
   "execution_count": null,
   "metadata": {
    "slideshow": {
     "slide_type": "fragment"
    }
   },
   "outputs": [],
   "source": [
    "fig, ax = plt.subplots()\n",
    "ax.set_aspect('equal')\n",
    "geo_barrios.plot(ax=ax, color='white', edgecolor='black')\n",
    "linea_a_geo.plot(ax=ax, color='red')\n",
    "plt.show();"
   ]
  },
  {
   "cell_type": "markdown",
   "metadata": {
    "slideshow": {
     "slide_type": "slide"
    }
   },
   "source": [
    "<div class=\"div-dhds-fondo-1\"> Operaciones con GeoPandas\n",
    "<img src=\"https://raw.githubusercontent.com/Digital-House-DATA/ds_blend_2021_img/master/M1/CLASE_05_Pandas1/Presentacion/img/M1_CLASE_05_separador.png\" align=\"center\"></img>    \n",
    "</div>"
   ]
  },
  {
   "cell_type": "markdown",
   "metadata": {
    "slideshow": {
     "slide_type": "slide"
    }
   },
   "source": [
    "### Operaciones con GeoPandas\n",
    "\n",
    "---\n",
    "\n",
    "Es interesante realizar operaciones entre los distintos objetos usando su posición espacial.\n",
    "Vamos a ver algunas de ellas:\n",
    "\n",
    "- Determinar si un punto se encuentra dentro de un polígono.\n",
    "- Dada una línea, conocer qué poligonos atraviesa.\n",
    "- Calcular la distancia entre dos puntos."
   ]
  },
  {
   "cell_type": "markdown",
   "metadata": {
    "slideshow": {
     "slide_type": "slide"
    }
   },
   "source": [
    "### Determinar si un punto se encuentra dentro de un polígono\n",
    "\n",
    "---\n",
    "\n",
    "Con el método `GeoDataFrame.contains` podemos ver si un polígono contiene un punto.\n",
    "\n",
    "Como ejemplo, veamos si el local bailable *REY CASTRO* se encuentra en el barrio *MONSERRAT*.\n",
    "\n",
    "Primero generamos dos GeoDataFrame con los datos del barrio y del local bailable, para usar el método plot, para graficarlos."
   ]
  },
  {
   "cell_type": "code",
   "execution_count": null,
   "metadata": {
    "slideshow": {
     "slide_type": "fragment"
    }
   },
   "outputs": [],
   "source": [
    "geo_monserrat = geo_barrios.loc[geo_barrios[\"BARRIO\"]==\"MONSERRAT\"]\n",
    "geo_rey_castro = geo_locales[geo_locales['NOMBRE']=='REY CASTRO'] "
   ]
  },
  {
   "cell_type": "code",
   "execution_count": null,
   "metadata": {
    "slideshow": {
     "slide_type": "fragment"
    }
   },
   "outputs": [],
   "source": [
    "type(geo_rey_castro)"
   ]
  },
  {
   "cell_type": "markdown",
   "metadata": {
    "slideshow": {
     "slide_type": "slide"
    }
   },
   "source": [
    "### Determinar si un punto se encuentra dentro de un polígono\n",
    "\n",
    "---\n",
    "\n",
    "Chequeamos visualmente si se encuentra \"REY CASTRO\" en el barrio \"MONSERRAT\""
   ]
  },
  {
   "cell_type": "code",
   "execution_count": null,
   "metadata": {
    "slideshow": {
     "slide_type": "fragment"
    }
   },
   "outputs": [],
   "source": [
    "fig, ax = plt.subplots()\n",
    "ax.set_aspect('equal')\n",
    "geo_monserrat.plot(ax=ax, color='white', edgecolor='black')\n",
    "geo_rey_castro.plot(ax=ax, marker='o', color='red', markersize=40)\n",
    "plt.show();"
   ]
  },
  {
   "cell_type": "markdown",
   "metadata": {
    "slideshow": {
     "slide_type": "slide"
    }
   },
   "source": [
    "### Determinar si un punto se encuentra dentro de un polígono\n",
    "\n",
    "---\n",
    "Se valida con el método `GeoDataFrame.contains`.\n",
    "\n",
    "Por un lado, el **polígono** se representa con el GeoDataFrame *geo_monserrat*. Pero el **punto** debe ser construido a partir de los datos del local bailable en el GeoDataFrame geo_locales. \n",
    "\n",
    "Porque si usamos el GeoDataFrame *geo_rey_castro*, el método contains da error."
   ]
  },
  {
   "cell_type": "code",
   "execution_count": null,
   "metadata": {
    "slideshow": {
     "slide_type": "fragment"
    }
   },
   "outputs": [],
   "source": [
    "punto_rey_castro = Point(geo_locales[geo_locales['NOMBRE']=='REY CASTRO'].X,\n",
    "                         geo_locales[geo_locales['NOMBRE']=='REY CASTRO'].Y)"
   ]
  },
  {
   "cell_type": "markdown",
   "metadata": {
    "slideshow": {
     "slide_type": "slide"
    }
   },
   "source": [
    "Aplicando el método `contains` sobre el geoDataFrame, nos devuelve *True*."
   ]
  },
  {
   "cell_type": "code",
   "execution_count": null,
   "metadata": {
    "slideshow": {
     "slide_type": "fragment"
    }
   },
   "outputs": [],
   "source": [
    "geo_monserrat.contains(punto_rey_castro)"
   ]
  },
  {
   "cell_type": "markdown",
   "metadata": {
    "slideshow": {
     "slide_type": "slide"
    }
   },
   "source": [
    "### Dada una línea, conocer qué poligonos atraviesa\n",
    "\n",
    "---\n",
    "\n",
    "Pensados como figuras geométricas, una línea puede pasar por varios polígonos.\n",
    "\n",
    "Como ejemplo, consideremos la linea que realizamos entre el edificio de Digital House y el local bailable \"AFRIKA\" con el método `linea_a = LineString([punto_dh, punto_afrika])`.\n",
    "\n",
    "Y analicemos que barrios atraviesa."
   ]
  },
  {
   "cell_type": "markdown",
   "metadata": {
    "slideshow": {
     "slide_type": "fragment"
    }
   },
   "source": [
    "El método **crosses** aplicado al GeoDataFrame de los barrios, indica con *True* o *False* si la línea atraviesa o no cada barrio (polígono). \n",
    "Observamos que para cada índice del barrio devuelve si pasa o no."
   ]
  },
  {
   "cell_type": "code",
   "execution_count": null,
   "metadata": {
    "slideshow": {
     "slide_type": "fragment"
    }
   },
   "outputs": [],
   "source": [
    "geo_barrios.crosses(linea_a).tail()"
   ]
  },
  {
   "cell_type": "markdown",
   "metadata": {
    "slideshow": {
     "slide_type": "slide"
    }
   },
   "source": [
    "### Dada una línea, conocer qué poligonos atraviesa\n",
    "\n",
    "---\n",
    "Ahora aplicamos el resultado anterior para obtener los barrios por donde pasa."
   ]
  },
  {
   "cell_type": "code",
   "execution_count": null,
   "metadata": {
    "slideshow": {
     "slide_type": "fragment"
    }
   },
   "outputs": [],
   "source": [
    "geo_barrios.loc[geo_barrios.crosses(linea_a), 'BARRIO']"
   ]
  },
  {
   "cell_type": "markdown",
   "metadata": {
    "slideshow": {
     "slide_type": "slide"
    }
   },
   "source": [
    "### Dada una línea, conocer qué poligonos atraviesa\n",
    "\n",
    "---\n",
    "\n",
    "Lo podemos verificar visualmente."
   ]
  },
  {
   "cell_type": "code",
   "execution_count": null,
   "metadata": {
    "slideshow": {
     "slide_type": "fragment"
    }
   },
   "outputs": [],
   "source": [
    "options = ['PALERMO','BELGRANO','RECOLETA'] \n",
    "geo_barrios_recorrida = geo_barrios[geo_barrios['BARRIO'].isin(options)] \n",
    "geo_barrios_recorrida"
   ]
  },
  {
   "cell_type": "code",
   "execution_count": null,
   "metadata": {
    "slideshow": {
     "slide_type": "fragment"
    }
   },
   "outputs": [],
   "source": [
    "fig, ax = plt.subplots()\n",
    "ax.set_aspect('equal')\n",
    "geo_barrios_recorrida.plot(ax=ax, color='white', edgecolor='black')\n",
    "linea_a_geo.plot(ax=ax, color='red')\n",
    "plt.show();"
   ]
  },
  {
   "cell_type": "markdown",
   "metadata": {
    "slideshow": {
     "slide_type": "slide"
    }
   },
   "source": [
    "### Calcular la distancia entre dos puntos\n",
    "\n",
    "---\n",
    "\n",
    "Ahora que sabemos como trazar líneas entre dos puntos, es razonable preguntarse cual es la distancia entre ellos. \n",
    "\n",
    "Vamos a calcular la *distancia* entre la ubicación de Digital House y el local bailable \"AFRIKA\"."
   ]
  },
  {
   "cell_type": "markdown",
   "metadata": {},
   "source": [
    "Generamos un punto que identifique la posición geoespacial de cada lugar. Observar que para definir la latitud y longitud de cada lugar, la libreria **geopy** necesita que se exprese como una **tupla**."
   ]
  },
  {
   "cell_type": "code",
   "execution_count": null,
   "metadata": {
    "slideshow": {
     "slide_type": "fragment"
    }
   },
   "outputs": [],
   "source": [
    "punto_dh_t = ( -58.443555,-34.548921) # dato geoespacial de DH\n",
    "punto_afrika_t = ( -58.39239, -34.58843) # dato geoespacial de Afrika"
   ]
  },
  {
   "cell_type": "code",
   "execution_count": null,
   "metadata": {
    "slideshow": {
     "slide_type": "fragment"
    }
   },
   "outputs": [],
   "source": [
    "type(punto_dh_t)"
   ]
  },
  {
   "cell_type": "markdown",
   "metadata": {
    "slideshow": {
     "slide_type": "slide"
    }
   },
   "source": [
    "### Calcular la distancia entre dos puntos\n",
    "\n",
    "---\n",
    "\n",
    "Para calcular distancias entre dos puntos, usamos <code>import geopy.distance</code>.\n",
    "\n",
    "Observar que el resultado se puede expresar en diferentes unidades de medida: meters, kilometers, miles."
   ]
  },
  {
   "cell_type": "code",
   "execution_count": null,
   "metadata": {
    "slideshow": {
     "slide_type": "fragment"
    }
   },
   "outputs": [],
   "source": [
    "import geopy\n",
    "import geopy.distance as distance\n",
    "dist = geopy.distance.geodesic(punto_dh_t,punto_afrika_t)\n",
    "dist.meters"
   ]
  },
  {
   "cell_type": "code",
   "execution_count": null,
   "metadata": {
    "slideshow": {
     "slide_type": "fragment"
    }
   },
   "outputs": [],
   "source": [
    "dist.kilometers"
   ]
  },
  {
   "cell_type": "markdown",
   "metadata": {
    "slideshow": {
     "slide_type": "slide"
    }
   },
   "source": [
    "<div class=\"div-dhds-fondo-1\"> Hands-on\n",
    "<img src=\"https://raw.githubusercontent.com/Digital-House-DATA/ds_blend_2021_img/master/M1/CLASE_05_Pandas1/Presentacion/img/M1_CLASE_05_separador.png\" align=\"center\"></img>    \n",
    "</div>"
   ]
  },
  {
   "cell_type": "markdown",
   "metadata": {
    "slideshow": {
     "slide_type": "slide"
    }
   },
   "source": [
    "<img src=\"https://raw.githubusercontent.com/Digital-House-DATA/ds_blend_2021_img/master/M1/CLASE_07_Geopandas/Presentacion/img/M1_Clase_07_warning.png\" width =\"50%\" />\n",
    "\n",
    "Para esta clase vamos a usar un ambiente nuevo `dhdsblend2021_geopandas`"
   ]
  },
  {
   "cell_type": "markdown",
   "metadata": {
    "slideshow": {
     "slide_type": "subslide"
    }
   },
   "source": [
    "Las instrucciones para crear el ambiente `dhdsblend2021_geopandas` son las siguientes:\n",
    "\n",
    "```\n",
    "conda create --yes --name dhdsblend2021_geopandas python=3.7\n",
    "\n",
    "conda activate dhdsblend2021_geopandas\n",
    "\n",
    "conda install jupyterlab=2.2.6\n",
    "\n",
    "conda install -c conda-forge pyproj=2.4.2.post1\n",
    "\n",
    "conda install -c conda-forge descartes=1.1.0\n",
    "\n",
    "conda install -c conda-forge geopandas=0.8.1\n",
    "\n",
    "conda install -c conda-forge geopy=2.0.0\n",
    "\n",
    "```\n",
    "\n",
    "\n",
    "Una vez instaladas las bibliotecas, cerramos jupyter lab, y volvemos a iniciarlo desde el ambiente recién creado: dhdsblend2021_geopandas\n",
    "\n",
    "En este <a href=\"https://github.com/Digital-House-DATA/ds_blend_2021_img/wiki/Geopandas-----Fixes\" target=\"_blank\">enlace</a> pueden encontrar algunos de los problemas que tuvieron otras comisisones en la instalación de dependencias y sus soluciones.\n",
    "\n"
   ]
  },
  {
   "cell_type": "markdown",
   "metadata": {
    "slideshow": {
     "slide_type": "subslide"
    }
   },
   "source": [
    "Después de ejecutar todos los pasos anteriores, estos import deberán funcionar sin dar error.\n"
   ]
  },
  {
   "cell_type": "code",
   "execution_count": null,
   "metadata": {
    "slideshow": {
     "slide_type": "fragment"
    }
   },
   "outputs": [],
   "source": [
    "import pandas as pd\n",
    "import geopandas as gpd\n",
    "import matplotlib.pyplot as plt\n",
    "import descartes\n",
    "import pyproj\n"
   ]
  },
  {
   "cell_type": "markdown",
   "metadata": {
    "slideshow": {
     "slide_type": "slide"
    }
   },
   "source": [
    "### Ejercicio\n",
    "\n",
    "Representar ciudades de Colombia sobre el mapa del país. Y luego generar una línea entre las ciudades de Bogotá y Barranquilla.\n",
    "\n",
    "Usar este código para generar el DataFrame de las ciudades:"
   ]
  },
  {
   "cell_type": "code",
   "execution_count": null,
   "metadata": {
    "slideshow": {
     "slide_type": "fragment"
    }
   },
   "outputs": [],
   "source": [
    "df_ciudad = pd.DataFrame(\n",
    "    {'Ciudad': ['Bogota','Cali', 'Medellin', 'Barranquilla'],\n",
    "     'Latitud': [4.60971, 3.43722, 6.25184, 10.96854],\n",
    "     'Longitud': [-74.08175, -76.5225, -75.56359, -74.78132]})"
   ]
  },
  {
   "cell_type": "markdown",
   "metadata": {
    "slideshow": {
     "slide_type": "slide"
    }
   },
   "source": [
    "Llevar la latitud y longitud a una forma geométrica de Punto, y junto a los datos del DataFrame df_ciudad, generar el GeoDataFrame geo_ciudad."
   ]
  },
  {
   "cell_type": "code",
   "execution_count": null,
   "metadata": {
    "colab": {
     "base_uri": "https://localhost:8080/",
     "height": 289
    },
    "colab_type": "code",
    "executionInfo": {
     "elapsed": 830,
     "status": "ok",
     "timestamp": 1567641541793,
     "user": {
      "displayName": "Julián Ansaldo",
      "photoUrl": "https://lh3.googleusercontent.com/a-/AAuE7mCQI0iy6sTR9TfuLMfXZ90XCqxfdAQtMEcBkjfs1w=s64",
      "userId": "10643095115217147090"
     },
     "user_tz": 180
    },
    "id": "vRpX0jS6G_x5",
    "outputId": "178eafb8-17f3-4205-fcbe-9368fbd51efa",
    "slideshow": {
     "slide_type": "fragment"
    }
   },
   "outputs": [],
   "source": []
  },
  {
   "cell_type": "markdown",
   "metadata": {
    "slideshow": {
     "slide_type": "fragment"
    }
   },
   "source": [
    "Que tipo de datos tiene la nueva columna *geometry*?"
   ]
  },
  {
   "cell_type": "code",
   "execution_count": null,
   "metadata": {
    "slideshow": {
     "slide_type": "fragment"
    }
   },
   "outputs": [],
   "source": []
  },
  {
   "cell_type": "markdown",
   "metadata": {
    "slideshow": {
     "slide_type": "fragment"
    }
   },
   "source": [
    "Usar este código para leer el polígono que representa al contorno de Colombia:"
   ]
  },
  {
   "cell_type": "code",
   "execution_count": null,
   "metadata": {
    "slideshow": {
     "slide_type": "fragment"
    }
   },
   "outputs": [],
   "source": [
    "world = gpd.read_file(gpd.datasets.get_path('naturalearth_lowres'))\n",
    "geo_colombia = world[world.name=='Colombia']\n",
    "geo_colombia"
   ]
  },
  {
   "cell_type": "markdown",
   "metadata": {
    "slideshow": {
     "slide_type": "slide"
    }
   },
   "source": [
    "Que tipo de datos es geo_colombia?"
   ]
  },
  {
   "cell_type": "code",
   "execution_count": null,
   "metadata": {
    "slideshow": {
     "slide_type": "fragment"
    }
   },
   "outputs": [],
   "source": []
  },
  {
   "cell_type": "markdown",
   "metadata": {
    "slideshow": {
     "slide_type": "fragment"
    }
   },
   "source": [
    "En que columna se encuentra representado el polígono?"
   ]
  },
  {
   "cell_type": "code",
   "execution_count": null,
   "metadata": {
    "slideshow": {
     "slide_type": "fragment"
    }
   },
   "outputs": [],
   "source": []
  },
  {
   "cell_type": "markdown",
   "metadata": {
    "slideshow": {
     "slide_type": "fragment"
    }
   },
   "source": [
    "Usando la funcion graficar, generar un grafico de las ciudades sobre el mapa del pais."
   ]
  },
  {
   "cell_type": "code",
   "execution_count": null,
   "metadata": {
    "slideshow": {
     "slide_type": "fragment"
    }
   },
   "outputs": [],
   "source": [
    "def graficar(p_ciudad, p_pais):\n",
    "    \"\"\"Grafica ciudades sobre el mapa del pais\"\"\"\n",
    "    \n",
    "    ax = p_pais.plot(color='white', edgecolor='black')\n",
    "\n",
    "    # Sobre las ciudades superpone el mapa del país\n",
    "    p_ciudad.plot(ax=ax, color='red')\n",
    "\n",
    "plt.show()"
   ]
  },
  {
   "cell_type": "code",
   "execution_count": null,
   "metadata": {
    "slideshow": {
     "slide_type": "fragment"
    }
   },
   "outputs": [],
   "source": []
  },
  {
   "cell_type": "markdown",
   "metadata": {
    "slideshow": {
     "slide_type": "fragment"
    }
   },
   "source": [
    "Crear una línea entre las ciudades de Bogotá y Barranquilla."
   ]
  },
  {
   "cell_type": "code",
   "execution_count": null,
   "metadata": {
    "slideshow": {
     "slide_type": "fragment"
    }
   },
   "outputs": [],
   "source": []
  },
  {
   "cell_type": "markdown",
   "metadata": {
    "slideshow": {
     "slide_type": "slide"
    }
   },
   "source": [
    "### Solución\n",
    "\n",
    "----"
   ]
  },
  {
   "cell_type": "markdown",
   "metadata": {
    "slideshow": {
     "slide_type": "slide"
    }
   },
   "source": [
    "### Ejercicio\n",
    "\n",
    "Representar ciudades de Colombia sobre el mapa del país. Y luego generar una línea entre las ciudades de Bogotá y Barranquilla.\n",
    "\n",
    "Usar este código para generar el DataFrame de las ciudades:"
   ]
  },
  {
   "cell_type": "code",
   "execution_count": null,
   "metadata": {
    "slideshow": {
     "slide_type": "fragment"
    }
   },
   "outputs": [],
   "source": [
    "df_ciudad = pd.DataFrame(\n",
    "    {'Ciudad': ['Bogota','Cali', 'Medellin', 'Barranquilla'],\n",
    "     'Latitud': [4.60971, 3.43722, 6.25184, 10.96854],\n",
    "     'Longitud': [-74.08175, -76.5225, -75.56359, -74.78132]})"
   ]
  },
  {
   "cell_type": "markdown",
   "metadata": {
    "slideshow": {
     "slide_type": "fragment"
    }
   },
   "source": [
    "Llevar la latitud y longitud a una forma geométrica de Punto, y junto a los datos del DataFrame df_ciudad, generar el GeoDataFrame geo_ciudad.\n",
    "\n",
    "Con el método `gpd.points_from_xy(df_locales.X, df_locales.Y)` lo realizamos.\n",
    "\n",
    "**IMPORTANTE:** este método tiene dos parámetros, el primero, x, debe recibir la **longitud**, y el segundo, y, la **latitud**. Se puede pensar lógicamente que debe ser a la inversa."
   ]
  },
  {
   "cell_type": "code",
   "execution_count": null,
   "metadata": {
    "colab": {
     "base_uri": "https://localhost:8080/",
     "height": 289
    },
    "colab_type": "code",
    "executionInfo": {
     "elapsed": 830,
     "status": "ok",
     "timestamp": 1567641541793,
     "user": {
      "displayName": "Julián Ansaldo",
      "photoUrl": "https://lh3.googleusercontent.com/a-/AAuE7mCQI0iy6sTR9TfuLMfXZ90XCqxfdAQtMEcBkjfs1w=s64",
      "userId": "10643095115217147090"
     },
     "user_tz": 180
    },
    "id": "vRpX0jS6G_x5",
    "outputId": "178eafb8-17f3-4205-fcbe-9368fbd51efa",
    "slideshow": {
     "slide_type": "fragment"
    }
   },
   "outputs": [],
   "source": [
    "geo_ciudad = gpd.GeoDataFrame(df_ciudad\n",
    "                           ,geometry=gpd.points_from_xy(df_ciudad.Longitud, df_ciudad.Latitud))\n",
    "geo_ciudad"
   ]
  },
  {
   "cell_type": "markdown",
   "metadata": {
    "slideshow": {
     "slide_type": "slide"
    }
   },
   "source": [
    "Que tipo de datos tiene la nueva columna *geometry*? **geometry**"
   ]
  },
  {
   "cell_type": "code",
   "execution_count": null,
   "metadata": {
    "slideshow": {
     "slide_type": "fragment"
    }
   },
   "outputs": [],
   "source": [
    "geo_ciudad.dtypes"
   ]
  },
  {
   "cell_type": "markdown",
   "metadata": {
    "slideshow": {
     "slide_type": "fragment"
    }
   },
   "source": [
    "Usar este código para leer el polígono que representa al contorno de Colombia:"
   ]
  },
  {
   "cell_type": "code",
   "execution_count": null,
   "metadata": {
    "slideshow": {
     "slide_type": "fragment"
    }
   },
   "outputs": [],
   "source": [
    "world = gpd.read_file(gpd.datasets.get_path('naturalearth_lowres'))\n",
    "geo_colombia = world[world.name=='Colombia']\n",
    "geo_colombia"
   ]
  },
  {
   "cell_type": "markdown",
   "metadata": {
    "slideshow": {
     "slide_type": "slide"
    }
   },
   "source": [
    "Que tipo de datos es geo_colombia? **GeoDataFrame**"
   ]
  },
  {
   "cell_type": "code",
   "execution_count": null,
   "metadata": {
    "slideshow": {
     "slide_type": "fragment"
    }
   },
   "outputs": [],
   "source": [
    "type(geo_colombia)"
   ]
  },
  {
   "cell_type": "markdown",
   "metadata": {
    "slideshow": {
     "slide_type": "fragment"
    }
   },
   "source": [
    "En que columna se encuentra representado el polígono? la columna **geometry**"
   ]
  },
  {
   "cell_type": "code",
   "execution_count": null,
   "metadata": {
    "slideshow": {
     "slide_type": "fragment"
    }
   },
   "outputs": [],
   "source": [
    "geo_colombia.dtypes"
   ]
  },
  {
   "cell_type": "markdown",
   "metadata": {
    "slideshow": {
     "slide_type": "slide"
    }
   },
   "source": [
    "Usando la funcion graficar, generar un grafico de las ciudades sobre el mapa del pais."
   ]
  },
  {
   "cell_type": "code",
   "execution_count": null,
   "metadata": {
    "slideshow": {
     "slide_type": "fragment"
    }
   },
   "outputs": [],
   "source": [
    "def graficar(p_ciudad, p_pais):\n",
    "    \"\"\"Grafica ciudades sobre el mapa del pais\"\"\"\n",
    "    \n",
    "    ax = p_pais.plot(color='white', edgecolor='black')\n",
    "\n",
    "    # Sobre las ciudades superpone el mapa del país\n",
    "    p_ciudad.plot(ax=ax, color='red')\n",
    "\n",
    "plt.show()"
   ]
  },
  {
   "cell_type": "code",
   "execution_count": null,
   "metadata": {
    "slideshow": {
     "slide_type": "fragment"
    }
   },
   "outputs": [],
   "source": [
    "graficar(geo_ciudad, geo_colombia)"
   ]
  },
  {
   "cell_type": "markdown",
   "metadata": {
    "slideshow": {
     "slide_type": "slide"
    }
   },
   "source": [
    "Crear una línea entre las ciudades de Bogotá y Barranquilla."
   ]
  },
  {
   "cell_type": "markdown",
   "metadata": {
    "slideshow": {
     "slide_type": "fragment"
    }
   },
   "source": [
    "Las **líneas** se realizan a partir de dos puntos. \n",
    "\n",
    "Cada lugar debe ser representado por una forma geométrica *punto*. Para lo cual necesitamos su latitud y longitud.\n",
    "\n",
    "Observar que para definir el tipo *punto*, primero se ingresa la **longitud** y luego la **latitud**."
   ]
  },
  {
   "cell_type": "code",
   "execution_count": null,
   "metadata": {
    "colab": {
     "base_uri": "https://localhost:8080/",
     "height": 289
    },
    "colab_type": "code",
    "executionInfo": {
     "elapsed": 830,
     "status": "ok",
     "timestamp": 1567641541793,
     "user": {
      "displayName": "Julián Ansaldo",
      "photoUrl": "https://lh3.googleusercontent.com/a-/AAuE7mCQI0iy6sTR9TfuLMfXZ90XCqxfdAQtMEcBkjfs1w=s64",
      "userId": "10643095115217147090"
     },
     "user_tz": 180
    },
    "id": "vRpX0jS6G_x5",
    "outputId": "178eafb8-17f3-4205-fcbe-9368fbd51efa",
    "slideshow": {
     "slide_type": "fragment"
    }
   },
   "outputs": [],
   "source": [
    "geo_ciudad"
   ]
  },
  {
   "cell_type": "code",
   "execution_count": null,
   "metadata": {
    "colab": {},
    "colab_type": "code",
    "id": "pcpVLTgiG_y2",
    "slideshow": {
     "slide_type": "fragment"
    }
   },
   "outputs": [],
   "source": [
    "from shapely.geometry import Point\n",
    "punto_bogota = Point( -74.08175,4.60971)\n",
    "punto_barranquilla = Point( -74.78132, 10.96854)"
   ]
  },
  {
   "cell_type": "markdown",
   "metadata": {
    "slideshow": {
     "slide_type": "fragment"
    }
   },
   "source": [
    "Y ahora sí creamos la línea entre los dos puntos, usando el método `from shapely.geometry import LineString`."
   ]
  },
  {
   "cell_type": "code",
   "execution_count": null,
   "metadata": {
    "slideshow": {
     "slide_type": "fragment"
    }
   },
   "outputs": [],
   "source": [
    "from shapely.geometry import LineString\n",
    "linea = LineString([punto_bogota, punto_barranquilla])\n",
    "linea.type"
   ]
  },
  {
   "cell_type": "markdown",
   "metadata": {
    "slideshow": {
     "slide_type": "slide"
    }
   },
   "source": [
    "- Extra\n",
    "\n",
    "Graficar la línea sobre el mapa de Colombia.\n",
    "\n",
    "Para ello, se necesita crear un tipo de datos GeoSeries con los dos puntos y la línea."
   ]
  },
  {
   "cell_type": "code",
   "execution_count": null,
   "metadata": {
    "slideshow": {
     "slide_type": "fragment"
    }
   },
   "outputs": [],
   "source": [
    "linea_geo = gpd.GeoSeries([punto_bogota, punto_barranquilla, linea])"
   ]
  },
  {
   "cell_type": "code",
   "execution_count": null,
   "metadata": {
    "slideshow": {
     "slide_type": "fragment"
    }
   },
   "outputs": [],
   "source": [
    "fig, ax = plt.subplots()\n",
    "ax.set_aspect('equal')\n",
    "geo_colombia.plot(ax=ax, color='white', edgecolor='black')\n",
    "linea_geo.plot(ax=ax, color='red')\n",
    "plt.show();"
   ]
  },
  {
   "cell_type": "markdown",
   "metadata": {
    "slideshow": {
     "slide_type": "slide"
    }
   },
   "source": [
    "<div class=\"div-dhds-fondo-1\"> Referencias y Material Adicional\n",
    "<img src=\"https://raw.githubusercontent.com/Digital-House-DATA/ds_blend_2021_img/master/M1/CLASE_05_Pandas1/Presentacion/img/M1_CLASE_05_separador.png\" align=\"center\"></img>    \n",
    "</div>"
   ]
  },
  {
   "cell_type": "markdown",
   "metadata": {
    "slideshow": {
     "slide_type": "slide"
    }
   },
   "source": [
    "### Referencias y Material Adicional\n",
    "\n",
    "---\n",
    "\n",
    "\n",
    "<a href=\"https://www.esri.cl/es-cl/que-es-el-gis/que-es-gis\" target=\"_blank\" > Que es GIS? </a>\n",
    "\n",
    "<a href=\"https://www.um.es/geograf/sigmur/sigpdf/temario.pdf\" target=\"_blank\" > Sistemas de Información Geográfica</a>\n",
    "\n",
    "<a href=\"https://mappinggis.com/2013/11/los-formatos-gis-vectoriales-mas-populares\" target=\"_blank\" > Formatos SIG</a>\n",
    "\n",
    "<a href=\"https://geopandas.org\" target=\"_blank\" >Geopandas Documentacion</a>\n",
    "    \n",
    "<a href=\"https://www.martinalarcon.org/2018-12-31-d-geopandas\n",
    "\" target=\"_blank\" > The GeoPandas Cookbook</a>\n",
    "\n",
    "<a href=\"https://shapely.readthedocs.io/en/stable/manual.html\" target=\"_blank\" > The Shapely User Manual</a>\n"
   ]
  }
 ],
 "metadata": {
  "kernelspec": {
   "display_name": "Python 3",
   "language": "python",
   "name": "python3"
  },
  "language_info": {
   "codemirror_mode": {
    "name": "ipython",
    "version": 3
   },
   "file_extension": ".py",
   "mimetype": "text/x-python",
   "name": "python",
   "nbconvert_exporter": "python",
   "pygments_lexer": "ipython3",
   "version": "3.8.10"
  }
 },
 "nbformat": 4,
 "nbformat_minor": 4
}
